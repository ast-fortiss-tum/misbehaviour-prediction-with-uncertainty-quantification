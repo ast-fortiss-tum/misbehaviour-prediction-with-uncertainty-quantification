{
 "cells": [
  {
   "cell_type": "markdown",
   "metadata": {},
   "source": [
    "Notebook for analyzing f3 scores"
   ]
  },
  {
   "cell_type": "code",
   "execution_count": 1,
   "metadata": {},
   "outputs": [],
   "source": [
    "import re\n",
    "import os\n",
    "import shutil\n",
    "import subprocess\n",
    "import numpy as np\n",
    "import pandas as pd"
   ]
  },
  {
   "cell_type": "code",
   "execution_count": 2,
   "metadata": {},
   "outputs": [],
   "source": [
    "def combined_df(path):\n",
    "    dataframes = []\n",
    "    for file in os.listdir(path):\n",
    "        if file.endswith('.csv'):\n",
    "            file_path = os.path.join(path, file)\n",
    "            df = pd.read_csv(file_path)\n",
    "            dataframes.append(df)\n",
    "    final_df = pd.concat(dataframes, ignore_index=True)\n",
    "    return final_df"
   ]
  },
  {
   "cell_type": "code",
   "execution_count": 76,
   "metadata": {},
   "outputs": [],
   "source": [
    "results_99 = combined_df('results/t99_/')\n",
    "results_99_cut = combined_df('results/t99_cut/')\n",
    "results_999 = combined_df('results/t999/')\n",
    "results_9999 = combined_df('results/t9999/')\n",
    "results_99999 = combined_df('results/t99999/')\n",
    "results_999999 = combined_df('results/t999999/')\n",
    "results_9999999 = combined_df('results/t9999999/')"
   ]
  },
  {
   "cell_type": "code",
   "execution_count": 46,
   "metadata": {},
   "outputs": [],
   "source": [
    "results_99_max = results_99[results_99['aggregation_type'].str.contains('max', case=False)]\n",
    "results_999_max = results_999[results_999['aggregation_type'].str.contains('max', case=False)]\n",
    "results_9999_max = results_9999[results_9999['aggregation_type'].str.contains('max', case=False)]\n",
    "results_99999_max = results_99999[results_99999['aggregation_type'].str.contains('max', case=False)]\n",
    "results_999999_max = results_999999[results_999999['aggregation_type'].str.contains('max', case=False)]\n",
    "results_9999999_max = results_9999999[results_9999999['aggregation_type'].str.contains('max', case=False)]"
   ]
  },
  {
   "cell_type": "code",
   "execution_count": 47,
   "metadata": {},
   "outputs": [],
   "source": [
    "results_99_average_f3 = results_99_max.groupby('model')['f3'].mean()\n",
    "results_99_average_f3 = results_99_average_f3.sort_values(ascending=False)\n",
    "\n",
    "results_999_average_f3 = results_999_max.groupby('model')['f3'].mean()\n",
    "results_999_average_f3 = results_999_average_f3.sort_values(ascending=False)\n",
    "\n",
    "results_9999_average_f3 = results_9999_max.groupby('model')['f3'].mean()\n",
    "results_9999_average_f3 = results_9999_average_f3.sort_values(ascending=False)\n",
    "\n",
    "results_99999_average_f3 = results_99999_max.groupby('model')['f3'].mean()\n",
    "results_99999_average_f3 = results_99999_average_f3.sort_values(ascending=False)\n",
    "\n",
    "results_999999_average_f3 = results_999999_max.groupby('model')['f3'].mean()\n",
    "results_999999_average_f3 = results_999999_average_f3.sort_values(ascending=False)\n",
    "\n",
    "results_9999999_average_f3 = results_9999999_max.groupby('model')['f3'].mean()\n",
    "results_9999999_average_f3 = results_9999999_average_f3.sort_values(ascending=False)"
   ]
  },
  {
   "cell_type": "code",
   "execution_count": 49,
   "metadata": {},
   "outputs": [
    {
     "data": {
      "text/plain": [
       "model\n",
       "dave2-track1-DE_50                   99.874214\n",
       "dave2-track1-DE_M_1_4_10             97.201258\n",
       "dave2-track1-DE_3                    91.320755\n",
       "dave2-track1-DE_M_3_4_5              89.471698\n",
       "dave2-track1-DE_M_4_5                88.088050\n",
       "dave2-track1-DE_120                  87.968553\n",
       "dave2-track1-DE_M_5_7_10             87.276730\n",
       "dave2-p10-track1-mcd_10_S2           85.603774\n",
       "dave2-track1-DE_M_3_9                83.660377\n",
       "dave2-p10-track1-mcd_10_S2_test10    82.238095\n",
       "Name: f3, dtype: float64"
      ]
     },
     "execution_count": 49,
     "metadata": {},
     "output_type": "execute_result"
    }
   ],
   "source": [
    "results_999_average_f3.head(10)"
   ]
  },
  {
   "cell_type": "markdown",
   "metadata": {},
   "source": [
    "## MCD"
   ]
  },
  {
   "cell_type": "code",
   "execution_count": 77,
   "metadata": {},
   "outputs": [],
   "source": [
    "results = results_999"
   ]
  },
  {
   "cell_type": "code",
   "execution_count": 60,
   "metadata": {},
   "outputs": [],
   "source": [
    "mcd = results[results['model'].str.contains('mcd', case=False)]\n",
    "mcd_max = mcd[mcd['aggregation_type'].str.contains('max', case=False)]"
   ]
  },
  {
   "cell_type": "code",
   "execution_count": 61,
   "metadata": {},
   "outputs": [],
   "source": [
    "mcd_f3 = mcd_max.groupby('model')['f3'].mean()\n",
    "mcd_f3 = mcd_f3.sort_values(ascending=False)"
   ]
  },
  {
   "cell_type": "code",
   "execution_count": 62,
   "metadata": {},
   "outputs": [],
   "source": [
    "mcd_recall = mcd_max.groupby('model')['recall'].mean()\n",
    "mcd_recall = mcd_recall.sort_values(ascending=False)"
   ]
  },
  {
   "cell_type": "code",
   "execution_count": 63,
   "metadata": {},
   "outputs": [
    {
     "data": {
      "text/plain": [
       "model\n",
       "dave2-p10-track1-mcd_10_S2           85.603774\n",
       "dave2-p10-track1-mcd_10_S2_test10    82.238095\n",
       "dave2-p10-track1-mcd_35_S2           80.798742\n",
       "dave2-p10-track1-mcd_10_S2_test17    80.476190\n",
       "dave2-p10-track1-mcd_5_S2            78.968553\n",
       "dave2-p10-track1-mcd_10_S10          77.169811\n",
       "dave2-p10-track1-mcd_10_S2_test6     76.333333\n",
       "dave2-p10-track1-mcd_15_S2           76.245283\n",
       "dave2-p10-track1-mcd_5_S10           76.018868\n",
       "dave2-p10-track1-mcd_10_S2_test18    75.904762\n",
       "dave2-p10-track1-mcd_10_S2_test4     75.904762\n",
       "dave2-p10-track1-mcd_10_S2_test8     75.904762\n",
       "dave2-p10-track1-mcd_10_S128         75.603774\n",
       "dave2-p10-track1-mcd_5_S128          75.402516\n",
       "dave2-p10-track1-mcd_10_S2_test16    74.714286\n",
       "dave2-p10-track1-mcd_10_S2_test13    74.333333\n",
       "dave2-p10-track1-mcd_5_S5            74.050314\n",
       "dave2-p10-track1-mcd_10_S5           74.006289\n",
       "dave2-p10-track1-mcd_20_S10          73.974843\n",
       "dave2-p10-track1-mcd_10_S2_test1     73.904762\n",
       "dave2-p10-track1-mcd_35_S5           73.352201\n",
       "dave2-p10-track1-mcd_10_S2_test19    73.190476\n",
       "dave2-p10-track1-mcd_10_S2_test5     73.000000\n",
       "dave2-p10-track1-mcd_10_S2_test12    72.047619\n",
       "dave2-p10-track1-mcd_10_S2_test7     72.047619\n",
       "dave2-p10-track1-mcd_10_S2_test3     70.523810\n",
       "dave2-p10-track1-mcd_30_S5           70.194969\n",
       "dave2-p10-track1-mcd_10_S2_test15    70.000000\n",
       "dave2-p10-track1-mcd_35_S10          69.880503\n",
       "dave2-p10-track1-mcd_20_S128         69.855346\n",
       "dave2-p10-track1-mcd_10_S2_test0     69.619048\n",
       "dave2-p10-track1-mcd_30_S2           69.283019\n",
       "dave2-p10-track1-mcd_10_S2_test14    68.952381\n",
       "dave2-p10-track1-mcd_15_S5           68.754717\n",
       "dave2-p10-track1-mcd_15_S10          68.572327\n",
       "dave2-p10-track1-mcd_30_S10          68.440252\n",
       "dave2-p10-track1-mcd_15_S128         67.981132\n",
       "dave2-p10-track1-mcd_10_S2_test2     67.952381\n",
       "dave2-p10-track1-mcd_10_S2_test9     67.952381\n",
       "dave2-p10-track1-mcd_20_S5           67.440252\n",
       "dave2-p10-track1-mcd_10_S2_test11    67.047619\n",
       "dave2-p10-track1-mcd_35_S128         67.037736\n",
       "dave2-p10-track1-mcd_20_S2           65.993711\n",
       "dave2-p10-track1-mcd_25_S5           65.622642\n",
       "dave2-p10-track1-mcd_25_S2           64.742138\n",
       "dave2-p10-track1-mcd_25_S128         64.597484\n",
       "dave2-p10-track1-mcd_30_S128         63.943396\n",
       "dave2-p10-track1-mcd_25_S10          61.314465\n",
       "Name: f3, dtype: float64"
      ]
     },
     "execution_count": 63,
     "metadata": {},
     "output_type": "execute_result"
    }
   ],
   "source": [
    "mcd_f3"
   ]
  },
  {
   "cell_type": "code",
   "execution_count": 18,
   "metadata": {},
   "outputs": [
    {
     "data": {
      "text/plain": [
       "model\n",
       "dave2-p10-track1-mcd_15_S2      99.911950\n",
       "dave2-p10-track1-mcd_15_S5      99.597484\n",
       "dave2-p10-track1-mcd_20_S5      99.578616\n",
       "dave2-p10-track1-mcd_10_S2      99.509434\n",
       "dave2-p10-track1-mcd_15_S10     99.339623\n",
       "dave2-p10-track1-mcd_5_S2       99.138365\n",
       "dave2-p10-track1-mcd_20_S2      99.088050\n",
       "dave2-p10-track1-mcd_10_S5      98.962264\n",
       "dave2-p10-track1-mcd_20_S10     98.911950\n",
       "dave2-p10-track1-mcd_35_S2      98.905660\n",
       "dave2-p10-track1-mcd_10_S10     98.742138\n",
       "dave2-p10-track1-mcd_25_S2      98.666667\n",
       "dave2-p10-track1-mcd_15_S128    98.446541\n",
       "dave2-p10-track1-mcd_25_S5      98.396226\n",
       "dave2-p10-track1-mcd_30_S2      98.289308\n",
       "dave2-p10-track1-mcd_25_S10     98.006289\n",
       "dave2-p10-track1-mcd_35_S5      97.981132\n",
       "dave2-p10-track1-mcd_30_S5      97.691824\n",
       "dave2-p10-track1-mcd_5_S10      97.232704\n",
       "dave2-p10-track1-mcd_35_S10     96.981132\n",
       "dave2-p10-track1-mcd_5_S5       96.830189\n",
       "dave2-p10-track1-mcd_30_S10     96.716981\n",
       "dave2-p10-track1-mcd_10_S128    96.440252\n",
       "dave2-p10-track1-mcd_20_S128    95.301887\n",
       "dave2-p10-track1-mcd_5_S128     94.270440\n",
       "dave2-p10-track1-mcd_25_S128    92.503145\n",
       "dave2-p10-track1-mcd_35_S128    92.433962\n",
       "dave2-p10-track1-mcd_30_S128    89.352201\n",
       "Name: recall, dtype: float64"
      ]
     },
     "execution_count": 18,
     "metadata": {},
     "output_type": "execute_result"
    }
   ],
   "source": [
    "mcd_recall"
   ]
  },
  {
   "cell_type": "markdown",
   "metadata": {},
   "source": [
    "MCD 10 S2 Testing"
   ]
  },
  {
   "cell_type": "code",
   "execution_count": 82,
   "metadata": {},
   "outputs": [],
   "source": [
    "results = results_999999"
   ]
  },
  {
   "cell_type": "code",
   "execution_count": 79,
   "metadata": {},
   "outputs": [],
   "source": [
    "mcd = results[results['model'].str.contains('mcd_10', case=False)]\n",
    "mcd_max = mcd[mcd['aggregation_type'].str.contains('max', case=False)]\n",
    "mcd_f3 = mcd_max.groupby('model')['f3'].mean()\n",
    "mcd_f3 = mcd_f3.sort_values(ascending=False)\n",
    "mcd_recall = mcd_max.groupby('model')['recall'].mean()\n",
    "mcd_recall = mcd_recall.sort_values(ascending=False)"
   ]
  },
  {
   "cell_type": "code",
   "execution_count": 70,
   "metadata": {},
   "outputs": [
    {
     "data": {
      "text/plain": [
       "model\n",
       "dave2-p10-track1-mcd_10_S2_test12    99.142857\n",
       "dave2-p10-track1-mcd_10_S2           98.735849\n",
       "dave2-p10-track1-mcd_10_S2_test15    97.666667\n",
       "dave2-p10-track1-mcd_10_S2_test1     95.523810\n",
       "dave2-p10-track1-mcd_10_S2_test6     93.190476\n",
       "dave2-p10-track1-mcd_10_S2_test18    91.857143\n",
       "dave2-p10-track1-mcd_10_S2_test7     89.761905\n",
       "dave2-p10-track1-mcd_10_S2_test5     89.571429\n",
       "dave2-p10-track1-mcd_10_S2_test8     89.476190\n",
       "dave2-p10-track1-mcd_10_S2_test14    89.190476\n",
       "dave2-p10-track1-mcd_10_S2_test19    88.571429\n",
       "dave2-p10-track1-mcd_10_S2_test0     88.428571\n",
       "dave2-p10-track1-mcd_10_S2_test2     88.142857\n",
       "dave2-p10-track1-mcd_10_S2_test4     87.380952\n",
       "dave2-p10-track1-mcd_10_S2_test3     87.333333\n",
       "dave2-p10-track1-mcd_10_S2_test9     86.238095\n",
       "dave2-p10-track1-mcd_10_S2_test10    84.000000\n",
       "dave2-p10-track1-mcd_10_S2_test16    83.761905\n",
       "dave2-p10-track1-mcd_10_S2_test13    83.666667\n",
       "dave2-p10-track1-mcd_10_S2_test17    79.761905\n",
       "dave2-p10-track1-mcd_10_S2_test11    76.952381\n",
       "Name: f3, dtype: float64"
      ]
     },
     "execution_count": 70,
     "metadata": {},
     "output_type": "execute_result"
    }
   ],
   "source": [
    "mcd_f3"
   ]
  },
  {
   "cell_type": "markdown",
   "metadata": {},
   "source": [
    "S2 lucky guess"
   ]
  },
  {
   "cell_type": "code",
   "execution_count": 83,
   "metadata": {},
   "outputs": [],
   "source": [
    "mcd = results[results['model'].str.contains('mcd_10_S', case=False)]\n",
    "mcd_max = mcd[mcd['aggregation_type'].str.contains('max', case=False)]\n",
    "mcd_f3 = mcd_max.groupby('model')['f3'].mean()\n",
    "mcd_f3 = mcd_f3.sort_values(ascending=False)\n",
    "mcd_recall = mcd_max.groupby('model')['recall'].mean()\n",
    "mcd_recall = mcd_recall.sort_values(ascending=False)"
   ]
  },
  {
   "cell_type": "code",
   "execution_count": 84,
   "metadata": {},
   "outputs": [
    {
     "data": {
      "text/plain": [
       "model\n",
       "dave2-p10-track1-mcd_10_S2_test12    99.142857\n",
       "dave2-p10-track1-mcd_10_S2           98.735849\n",
       "dave2-p10-track1-mcd_10_S2_test15    97.666667\n",
       "dave2-p10-track1-mcd_10_S2_test1     95.523810\n",
       "dave2-p10-track1-mcd_10_S5           93.314465\n",
       "dave2-p10-track1-mcd_10_S2_test6     93.190476\n",
       "dave2-p10-track1-mcd_10_S2_test18    91.857143\n",
       "dave2-p10-track1-mcd_10_S3_test      90.952381\n",
       "dave2-p10-track1-mcd_10_S2_test7     89.761905\n",
       "dave2-p10-track1-mcd_10_S2_test5     89.571429\n",
       "dave2-p10-track1-mcd_10_S2_test8     89.476190\n",
       "dave2-p10-track1-mcd_10_S2_test14    89.190476\n",
       "dave2-p10-track1-mcd_10_S10          88.698113\n",
       "dave2-p10-track1-mcd_10_S2_test19    88.571429\n",
       "dave2-p10-track1-mcd_10_S2_test0     88.428571\n",
       "dave2-p10-track1-mcd_10_S2_test2     88.142857\n",
       "dave2-p10-track1-mcd_10_S128         88.018868\n",
       "dave2-p10-track1-mcd_10_S2_test4     87.380952\n",
       "dave2-p10-track1-mcd_10_S2_test3     87.333333\n",
       "dave2-p10-track1-mcd_10_S2_test9     86.238095\n",
       "dave2-p10-track1-mcd_10_S2_test10    84.000000\n",
       "dave2-p10-track1-mcd_10_S2_test16    83.761905\n",
       "dave2-p10-track1-mcd_10_S2_test13    83.666667\n",
       "dave2-p10-track1-mcd_10_S2_test      83.619048\n",
       "dave2-p10-track1-mcd_10_S5_test      80.523810\n",
       "dave2-p10-track1-mcd_10_S2_test17    79.761905\n",
       "dave2-p10-track1-mcd_10_S10_test     77.095238\n",
       "dave2-p10-track1-mcd_10_S2_test11    76.952381\n",
       "dave2-p10-track1-mcd_10_S20_test     67.476190\n",
       "dave2-p10-track1-mcd_10_S50_test     63.142857\n",
       "dave2-p10-track1-mcd_10_S100_test    57.047619\n",
       "dave2-p10-track1-mcd_10_S150_test    54.523810\n",
       "dave2-p10-track1-mcd_10_S200_test    48.952381\n",
       "Name: f3, dtype: float64"
      ]
     },
     "execution_count": 84,
     "metadata": {},
     "output_type": "execute_result"
    }
   ],
   "source": [
    "mcd_f3"
   ]
  },
  {
   "cell_type": "markdown",
   "metadata": {},
   "source": [
    "## DE"
   ]
  },
  {
   "cell_type": "code",
   "execution_count": 82,
   "metadata": {},
   "outputs": [],
   "source": [
    "de = results[results['model'].str.contains('de', case=False)]\n"
   ]
  },
  {
   "cell_type": "code",
   "execution_count": 83,
   "metadata": {},
   "outputs": [],
   "source": [
    "de = de[de['aggregation_type'].str.contains('max', case=False)]#only max"
   ]
  },
  {
   "cell_type": "code",
   "execution_count": 84,
   "metadata": {},
   "outputs": [],
   "source": [
    "de_max = de.groupby('model')['f3'].mean()\n",
    "de_max = de_max.sort_values(ascending=False)"
   ]
  },
  {
   "cell_type": "code",
   "execution_count": 85,
   "metadata": {},
   "outputs": [
    {
     "data": {
      "text/plain": [
       "model\n",
       "dave2-track1-DE_50           99.056604\n",
       "dave2-track1-DE_120          98.880503\n",
       "dave2-track1-DE_10           98.761006\n",
       "dave2-track1-DE_5            97.345912\n",
       "dave2-track1-DE_3            92.427673\n",
       "dave2-track1-DE_M_1_5_6_7    90.918239\n",
       "dave2-track1-DE_M_4_7_8_9    90.207547\n",
       "dave2-track1-DE_M_3_4_5      88.735849\n",
       "dave2-track1-DE_M_1_4_10     87.628931\n",
       "dave2-track1-DE_M_4_5        85.377358\n",
       "dave2-track1-DE_M_5_7_10     82.207547\n",
       "dave2-track1-DE_M_3_9        67.742138\n",
       "Name: f3, dtype: float64"
      ]
     },
     "execution_count": 85,
     "metadata": {},
     "output_type": "execute_result"
    }
   ],
   "source": [
    "de_max"
   ]
  },
  {
   "cell_type": "markdown",
   "metadata": {},
   "source": [
    "## Final results"
   ]
  },
  {
   "cell_type": "code",
   "execution_count": 86,
   "metadata": {},
   "outputs": [],
   "source": [
    "results = results_999999[results['aggregation_type']=='max']\n",
    "s1 = results[results['ttm']==1]\n",
    "s2 = results[results['ttm']==2]\n",
    "s3 = results[results['ttm']==3]"
   ]
  },
  {
   "cell_type": "code",
   "execution_count": 87,
   "metadata": {},
   "outputs": [
    {
     "data": {
      "text/plain": [
       "model\n",
       "dave2-track1-DE_50            100.000000\n",
       "dave2-track1-DE_5             100.000000\n",
       "dave2-track1-DE_120           100.000000\n",
       "dave2-track1-DE_10            100.000000\n",
       "dave2-p10-track1-mcd_10_S2     98.641509\n",
       "dave2-track1-DE_3              98.113208\n",
       "dave2-p10-track1-mcd_15_S5     97.924528\n",
       "dave2-p10-track1-mcd_25_S2     96.320755\n",
       "dave2-track1-DE_M_1_5_6_7      95.773585\n",
       "dave2-track1-DE_M_1_4_10       95.773585\n",
       "Name: f3, dtype: float64"
      ]
     },
     "execution_count": 87,
     "metadata": {},
     "output_type": "execute_result"
    }
   ],
   "source": [
    "s1 = s1.groupby('model')['f3'].mean()\n",
    "s1 = s1.sort_values(ascending=False)\n",
    "s1.head(10)"
   ]
  },
  {
   "cell_type": "code",
   "execution_count": 88,
   "metadata": {},
   "outputs": [
    {
     "data": {
      "text/plain": [
       "model\n",
       "dave2-track1-DE_50            100.000000\n",
       "dave2-track1-DE_10            100.000000\n",
       "dave2-p10-track1-mcd_15_S5    100.000000\n",
       "dave2-track1-DE_5              99.754717\n",
       "dave2-track1-DE_120            99.754717\n",
       "dave2-p10-track1-mcd_10_S2     99.018868\n",
       "dave2-p10-track1-mcd_20_S5     97.981132\n",
       "dave2-p10-track1-mcd_25_S2     96.358491\n",
       "dave2-p10-track1-mcd_10_S5     95.754717\n",
       "dave2-track1-DE_M_1_5_6_7      95.301887\n",
       "Name: f3, dtype: float64"
      ]
     },
     "execution_count": 88,
     "metadata": {},
     "output_type": "execute_result"
    }
   ],
   "source": [
    "s2 = s2.groupby('model')['f3'].mean()\n",
    "s2 = s2.sort_values(ascending=False)\n",
    "s2.head(10)"
   ]
  },
  {
   "cell_type": "code",
   "execution_count": 89,
   "metadata": {},
   "outputs": [
    {
     "data": {
      "text/plain": [
       "model\n",
       "dave2-p10-track1-mcd_10_S2    98.547170\n",
       "dave2-track1-DE_50            97.169811\n",
       "dave2-track1-DE_120           96.886792\n",
       "dave2-track1-DE_10            96.283019\n",
       "dave2-p10-track1-mcd_15_S5    95.886792\n",
       "dave2-p10-track1-mcd_5_S2     92.679245\n",
       "dave2-p10-track1-mcd_10_S5    92.641509\n",
       "dave2-track1-DE_5             92.283019\n",
       "dave2-p10-track1-mcd_25_S2    91.886792\n",
       "dave2-p10-track1-mcd_35_S2    91.188679\n",
       "Name: f3, dtype: float64"
      ]
     },
     "execution_count": 89,
     "metadata": {},
     "output_type": "execute_result"
    }
   ],
   "source": [
    "s3 = s3.groupby('model')['f3'].mean()\n",
    "s3 = s3.sort_values(ascending=False)\n",
    "s3.head(10)"
   ]
  },
  {
   "cell_type": "markdown",
   "metadata": {},
   "source": [
    "Only 1 Lap and cutting the first 100 frames"
   ]
  }
 ],
 "metadata": {
  "kernelspec": {
   "display_name": "Python 3.6.8 ('udacity-self-driving-car')",
   "language": "python",
   "name": "python3"
  },
  "language_info": {
   "codemirror_mode": {
    "name": "ipython",
    "version": 3
   },
   "file_extension": ".py",
   "mimetype": "text/x-python",
   "name": "python",
   "nbconvert_exporter": "python",
   "pygments_lexer": "ipython3",
   "version": "3.6.8"
  },
  "orig_nbformat": 4,
  "vscode": {
   "interpreter": {
    "hash": "70096247bcda07457846f5e7969942de683a176a4e555548e494f119ea796924"
   }
  }
 },
 "nbformat": 4,
 "nbformat_minor": 2
}
