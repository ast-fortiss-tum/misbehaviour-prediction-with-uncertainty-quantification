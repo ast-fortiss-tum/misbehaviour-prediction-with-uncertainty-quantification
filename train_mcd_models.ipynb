{
 "cells": [
  {
   "cell_type": "markdown",
   "metadata": {},
   "source": [
    "notebook used to test the training of MCD models"
   ]
  },
  {
   "cell_type": "code",
   "execution_count": 2,
   "metadata": {},
   "outputs": [],
   "source": [
    "import datetime\n",
    "import os\n",
    "import time\n",
    "\n",
    "import uncertainty_wizard as uwiz\n",
    "import matplotlib.pyplot as plt\n",
    "import numpy as np\n",
    "import pandas as pd\n",
    "from sklearn.model_selection import train_test_split\n",
    "from sklearn.utils import shuffle\n",
    "from tensorflow.keras.callbacks import ModelCheckpoint\n",
    "from tensorflow.keras.optimizers import Adam\n",
    "\n",
    "from config import Config\n",
    "from self_driving_car_batch_generator import Generator\n",
    "from utils import get_driving_styles\n",
    "from utils import INPUT_SHAPE\n",
    "from utils_models import *\n",
    "from self_driving_car_train import *\n",
    "\n",
    "np.random.seed(0)"
   ]
  },
  {
   "cell_type": "code",
   "execution_count": 3,
   "metadata": {},
   "outputs": [
    {
     "data": {
      "text/plain": [
       "True"
      ]
     },
     "execution_count": 3,
     "metadata": {},
     "output_type": "execute_result"
    }
   ],
   "source": [
    "cfg = Config()\n",
    "cfg.from_pyfile(\"config_my.py\")"
   ]
  },
  {
   "cell_type": "code",
   "execution_count": 5,
   "metadata": {},
   "outputs": [
    {
     "data": {
      "text/plain": [
       "0.0"
      ]
     },
     "execution_count": 5,
     "metadata": {},
     "output_type": "execute_result"
    }
   ],
   "source": [
    "cfg.DROPOUT_RATE"
   ]
  },
  {
   "cell_type": "code",
   "execution_count": null,
   "metadata": {},
   "outputs": [],
   "source": [
    "cfg.DROPOUT_RATE = 0.05"
   ]
  },
  {
   "cell_type": "code",
   "execution_count": null,
   "metadata": {},
   "outputs": [],
   "source": [
    "def build_model(model_name, rate, use_dropout=False):\n",
    "    \"\"\"\n",
    "    Retrieve the DAVE-2 NVIDIA model\n",
    "    \"\"\"\n",
    "    model = None\n",
    "    if \"dave2\" in model_name:\n",
    "        model = create_dave2_model(rate,use_dropout)\n",
    "    else:\n",
    "        print(\"Incorrect model name provided\")\n",
    "        exit()\n",
    "\n",
    "    assert model is not None\n",
    "    model.summary()\n",
    "\n",
    "    return model"
   ]
  },
  {
   "cell_type": "code",
   "execution_count": null,
   "metadata": {},
   "outputs": [],
   "source": [
    "def create_dave2_model(drop_rate, use_dropout=False):\n",
    "    \"\"\"\n",
    "    Modified NVIDIA model w/ Dropout layers\n",
    "    \"\"\"\n",
    "    if use_dropout:\n",
    "        rate = drop_rate\n",
    "        inputs = keras.Input(shape=INPUT_SHAPE)\n",
    "        lambda_layer = keras.layers.Lambda(lambda x: x / 127.5 - 1.0, name=\"lambda_layer\")(inputs)\n",
    "        x = keras.layers.Conv2D(24, (5, 5), activation='relu', strides=(2, 2), kernel_regularizer=l2(1.0e-6))(\n",
    "            lambda_layer)\n",
    "        x = keras.layers.Dropout(rate)(x, training=True)\n",
    "        x = keras.layers.Conv2D(36, (5, 5), activation='relu', strides=(2, 2), kernel_regularizer=l2(1.0e-6))(x)\n",
    "        x = keras.layers.Dropout(rate)(x, training=True)\n",
    "        x = keras.layers.Conv2D(48, (5, 5), activation='relu', strides=(2, 2), kernel_regularizer=l2(1.0e-6))(x)\n",
    "        x = keras.layers.Dropout(rate)(x, training=True)\n",
    "        x = keras.layers.Conv2D(64, (3, 3), activation='relu', kernel_regularizer=l2(1.0e-6))(x)\n",
    "        x = keras.layers.Dropout(rate)(x, training=True)\n",
    "        x = keras.layers.Conv2D(64, (3, 3), activation='relu', kernel_regularizer=l2(1.0e-6))(x)\n",
    "        x = keras.layers.Dropout(rate)(x, training=True)\n",
    "        x = keras.layers.Flatten()(x)\n",
    "        x = keras.layers.Dense(100, activation='relu', kernel_regularizer=l2(1.0e-6))(x)\n",
    "        x = keras.layers.Dropout(rate)(x, training=True)\n",
    "        x = keras.layers.Dense(50, activation='relu', kernel_regularizer=l2(1.0e-6))(x)\n",
    "        x = keras.layers.Dropout(rate)(x, training=True)\n",
    "        x = keras.layers.Dense(10, activation='relu', kernel_regularizer=l2(1.0e-6))(x)\n",
    "        x = keras.layers.Dropout(rate)(x, training=True)\n",
    "        outputs = keras.layers.Dense(1)(x)\n",
    "        model = keras.Model(inputs=inputs, outputs=outputs)\n",
    "    else:\n",
    "        \"\"\"\n",
    "        original NVIDIA model w/out Dropout layers\n",
    "        \"\"\"\n",
    "        model = Sequential()\n",
    "        model.add(Lambda(lambda x: x / 127.5 - 1.0, input_shape=INPUT_SHAPE))\n",
    "        model.add(Conv2D(24, (5, 5), activation='elu', strides=(2, 2)))\n",
    "        model.add(Conv2D(36, (5, 5), activation='elu', strides=(2, 2)))\n",
    "        model.add(Conv2D(48, (5, 5), activation='elu', strides=(2, 2)))\n",
    "        model.add(Conv2D(64, (3, 3), activation='elu'))\n",
    "        model.add(Conv2D(64, (3, 3), activation='elu'))\n",
    "        model.add(Dropout(rate=0.05))\n",
    "        model.add(Flatten())\n",
    "        model.add(Dense(100, activation='elu'))\n",
    "        model.add(Dense(50, activation='elu'))\n",
    "        model.add(Dense(10, activation='elu'))\n",
    "        model.add(Dense(1))\n",
    "\n",
    "    return model\n"
   ]
  },
  {
   "cell_type": "code",
   "execution_count": null,
   "metadata": {},
   "outputs": [],
   "source": [
    "x_train, x_test, y_train, y_test = load_data(cfg)"
   ]
  },
  {
   "cell_type": "code",
   "execution_count": null,
   "metadata": {},
   "outputs": [],
   "source": []
  },
  {
   "cell_type": "code",
   "execution_count": null,
   "metadata": {},
   "outputs": [],
   "source": [
    "for i in range(5,100,5):\n",
    "    r = i/100\n",
    "    rs= (str)(r)\n",
    "    model = build_model(cfg.SDC_MODEL_NAME, r ,cfg.USE_PREDICTIVE_UNCERTAINTY)\n",
    "    train_model(model, cfg, x_train, x_test, y_train, y_test)\n",
    "    name = os.path.join(cfg.SDC_MODELS_DIR,\n",
    "                            cfg.TRACK + '-' + rs +'-MCD.h5')\n",
    "    model.save(name)"
   ]
  }
 ],
 "metadata": {
  "kernelspec": {
   "display_name": "Python 3.6.8 ('udacity-self-driving-car')",
   "language": "python",
   "name": "python3"
  },
  "language_info": {
   "codemirror_mode": {
    "name": "ipython",
    "version": 3
   },
   "file_extension": ".py",
   "mimetype": "text/x-python",
   "name": "python",
   "nbconvert_exporter": "python",
   "pygments_lexer": "ipython3",
   "version": "3.6.8"
  },
  "orig_nbformat": 4,
  "vscode": {
   "interpreter": {
    "hash": "70096247bcda07457846f5e7969942de683a176a4e555548e494f119ea796924"
   }
  }
 },
 "nbformat": 4,
 "nbformat_minor": 2
}
