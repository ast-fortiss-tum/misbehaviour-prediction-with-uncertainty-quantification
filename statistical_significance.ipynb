{
 "cells": [
  {
   "cell_type": "markdown",
   "metadata": {},
   "source": [
    "Notebook to calculate the statistical significance of the results"
   ]
  },
  {
   "cell_type": "code",
   "execution_count": 4,
   "metadata": {},
   "outputs": [],
   "source": [
    "from math import sqrt\n",
    " \n",
    "import numpy as np\n",
    "import pandas as pd\n",
    "from numpy import mean\n",
    "from numpy import var\n",
    "from scipy.stats import wilcoxon"
   ]
  },
  {
   "cell_type": "code",
   "execution_count": 2,
   "metadata": {},
   "outputs": [],
   "source": [
    "def cohend(d1, d2):\n",
    "   \"\"\"\n",
    "   function to calculate Cohen's d for independent samples\n",
    "   \"\"\"\n",
    " \n",
    "   # calculate the size of samples\n",
    "   n1, n2 = len(d1), len(d2)\n",
    "   # calculate the variance of the samples\n",
    "   s1, s2 = var(d1, ddof=1), var(d2, ddof=1)\n",
    "   # calculate the pooled standard deviation\n",
    "   s = sqrt(((n1 - 1) * s1 + (n2 - 1) * s2) / (n1 + n2 - 2))\n",
    "   # calculate the means of the samples\n",
    "   u1, u2 = mean(d1), mean(d2)\n",
    "   # calculate the effect size\n",
    "   d = (u1 - u2) / s\n",
    "   d = abs(d)\n",
    " \n",
    "   result = ''\n",
    "   if d < 0.2:\n",
    "       result = 'negligible'\n",
    "   if 0.2 <= d < 0.5:\n",
    "       result = 'small'\n",
    "   if 0.5 <= d < 0.8:\n",
    "       result = 'medium'\n",
    "   if d >= 0.8:\n",
    "       result = 'large'\n",
    " \n",
    "   return result, d\n",
    " "
   ]
  },
  {
   "cell_type": "code",
   "execution_count": 8,
   "metadata": {},
   "outputs": [],
   "source": [
    "def run_wilcoxon_and_cohend(data1, data2):\n",
    "   w_statistic, pvalue = wilcoxon(data1, data2)\n",
    "   cohensd = cohend(data1, data2)\n",
    "   print(f\"P-Value is: {pvalue}\")\n",
    "   print(f\"Cohen's D is: {cohensd}\")\n",
    " \n",
    "   return pvalue, cohensd[0]"
   ]
  },
  {
   "cell_type": "code",
   "execution_count": 5,
   "metadata": {},
   "outputs": [],
   "source": [
    "#mcd5 s32 t99\n",
    "mcd = pd.read_csv('results/dynamic/t99/dave2-p10-track1-mcd_5_S32.csv')\n",
    "#de50 t999\n",
    "de = pd.read_csv('results/dynamic/t999/dave2-track1-DE_50.csv')\n",
    "#selforacle t99\n",
    "so = pd.read_csv('results/dynamic/t99/SelfOracle.csv')\n",
    "#ThirdEye t95\n",
    "ty = pd.read_csv('results/dynamic/t95/ThirdEye.csv')"
   ]
  },
  {
   "cell_type": "code",
   "execution_count": 10,
   "metadata": {},
   "outputs": [],
   "source": [
    "mcd_3=mcd[mcd['ttm']==3]\n",
    "de_3=de[de['ttm']==3]\n",
    "so_3=so[so['ttm']==3]\n",
    "ty_3=ty[ty['ttm']==3]"
   ]
  },
  {
   "cell_type": "code",
   "execution_count": null,
   "metadata": {},
   "outputs": [],
   "source": []
  },
  {
   "cell_type": "code",
   "execution_count": 16,
   "metadata": {},
   "outputs": [
    {
     "name": "stdout",
     "output_type": "stream",
     "text": [
      "MCD and SO:\n",
      "P-Value is: 0.6061731121510467\n",
      "Cohen's D is: ('negligible', 0.12316110472649575)\n",
      "\n",
      "MCD and TY:\n",
      "P-Value is: 5.517308974455415e-13\n",
      "Cohen's D is: ('medium', 0.5687544130197363)\n",
      "\n",
      "DE and SO:\n",
      "P-Value is: 3.1866036349396997e-24\n",
      "Cohen's D is: ('medium', 0.7102791982207511)\n",
      "\n",
      "DE and TY:\n",
      "P-Value is: 1.5698041184316975e-19\n",
      "Cohen's D is: ('large', 1.2673792955058882)\n"
     ]
    },
    {
     "data": {
      "text/plain": [
       "(1.5698041184316975e-19, 'large')"
      ]
     },
     "execution_count": 16,
     "metadata": {},
     "output_type": "execute_result"
    }
   ],
   "source": [
    "print('MCD and SO:')\n",
    "run_wilcoxon_and_cohend(mcd['f3'],so['f3'])\n",
    "print('\\nMCD and TY:')\n",
    "run_wilcoxon_and_cohend(mcd['f3'],ty['f3'])\n",
    "print('\\nDE and SO:')\n",
    "run_wilcoxon_and_cohend(de['f3'],so['f3'])\n",
    "print('\\nDE and TY:')\n",
    "run_wilcoxon_and_cohend(de['f3'],ty['f3'])"
   ]
  }
 ],
 "metadata": {
  "kernelspec": {
   "display_name": "Python 3.11.2 64-bit",
   "language": "python",
   "name": "python3"
  },
  "language_info": {
   "codemirror_mode": {
    "name": "ipython",
    "version": 3
   },
   "file_extension": ".py",
   "mimetype": "text/x-python",
   "name": "python",
   "nbconvert_exporter": "python",
   "pygments_lexer": "ipython3",
   "version": "3.11.2"
  },
  "vscode": {
   "interpreter": {
    "hash": "8cbfa8fa34e24f4fdf067491ee244ebd8a1ea29952b5904d83551ee7802c6909"
   }
  }
 },
 "nbformat": 4,
 "nbformat_minor": 2
}
