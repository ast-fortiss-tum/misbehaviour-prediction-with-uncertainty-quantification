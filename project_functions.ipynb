{
 "cells": [
  {
   "cell_type": "markdown",
   "metadata": {},
   "source": [
    "Notebook with smaller functions used throughout the project"
   ]
  },
  {
   "cell_type": "code",
   "execution_count": null,
   "metadata": {},
   "outputs": [],
   "source": [
    "import os\n",
    "import shutil"
   ]
  },
  {
   "cell_type": "markdown",
   "metadata": {},
   "source": [
    "Copy folder structure without the files."
   ]
  },
  {
   "cell_type": "code",
   "execution_count": null,
   "metadata": {},
   "outputs": [],
   "source": [
    "source_folder = 'simulations'\n",
    "destination_folder = 'simulations_cut'"
   ]
  },
  {
   "cell_type": "code",
   "execution_count": null,
   "metadata": {},
   "outputs": [],
   "source": [
    "def copy_empty_folder_structure(source_folder, destination_folder):\n",
    "    for root, dirs, _ in os.walk(source_folder):\n",
    "        for dir_name in dirs:\n",
    "            source_dir = os.path.join(root, dir_name)\n",
    "            relative_dir = os.path.relpath(source_dir, source_folder)\n",
    "            destination_dir = os.path.join(destination_folder, relative_dir)\n",
    "\n",
    "            if not os.path.exists(destination_dir):\n",
    "                os.makedirs(destination_dir)"
   ]
  },
  {
   "cell_type": "code",
   "execution_count": null,
   "metadata": {},
   "outputs": [],
   "source": [
    "if os.path.exists(source_folder):\n",
    "    if not os.path.exists(destination_folder):\n",
    "        os.makedirs(destination_folder)\n",
    "        \n",
    "    copy_empty_folder_structure(source_folder, destination_folder)\n",
    "    print(\"Empty folder structure copied successfully.\")\n",
    "else:\n",
    "    print(\"Source folder does not exist.\")"
   ]
  },
  {
   "cell_type": "markdown",
   "metadata": {},
   "source": [
    "Cut frames and use only one lap of a simulation file."
   ]
  },
  {
   "cell_type": "code",
   "execution_count": null,
   "metadata": {},
   "outputs": [],
   "source": [
    "import os\n",
    "import pandas as pd\n",
    "import numpy as np"
   ]
  },
  {
   "cell_type": "code",
   "execution_count": null,
   "metadata": {},
   "outputs": [],
   "source": [
    "def copy_and_modify_csv(source_csv, destination_csv):\n",
    "    print(source_csv)\n",
    "    df = pd.read_csv(source_csv)\n",
    "    # Filter rows for the first lap and skip the first 100 rows\n",
    "    df = df[(df['Lap Number'] == 1) & (df.index >= 100)]\n",
    "\n",
    "    # Reset the index and adjust the frameId\n",
    "    df.reset_index(drop=True, inplace=True)\n",
    "    df['frameId'] = np.arange(len(df))\n",
    "\n",
    "    # Save the modified DataFrame to a new CSV file\n",
    "    df.to_csv(destination_csv, index=False)\n",
    "\n",
    "def process_folders(root_folder):\n",
    "    for root, dirs, _ in os.walk(root_folder):\n",
    "        for dir_name in dirs:\n",
    "            source_csv = os.path.join(root, dir_name, \"driving_log.csv\")\n",
    "            if os.path.exists(source_csv):\n",
    "                destination_csv = os.path.join(root, dir_name, \"driving_log_cut.csv\")\n",
    "                copy_and_modify_csv(source_csv, destination_csv)"
   ]
  },
  {
   "cell_type": "code",
   "execution_count": null,
   "metadata": {},
   "outputs": [],
   "source": [
    "main_folder = \"simulations\"\n",
    "process_folders(main_folder)"
   ]
  },
  {
   "cell_type": "code",
   "execution_count": null,
   "metadata": {},
   "outputs": [],
   "source": [
    "data_df_nominal = pd.read_csv(r'simulations\\DAVE2-Track1-Normal\\driving_log.csv')\n",
    "# Filter rows for the first lap and skip the first 100 rows\n",
    "data_df_nominal = data_df_nominal[(data_df_nominal['Lap Number'] == 1) & (data_df_nominal.index >= 100)]\n",
    "# Reset the index and adjust the frameId\n",
    "data_df_nominal.reset_index(drop=True, inplace=True)\n",
    "data_df_nominal['frameId'] = np.arange(len(data_df_nominal))"
   ]
  },
  {
   "cell_type": "code",
   "execution_count": null,
   "metadata": {},
   "outputs": [],
   "source": [
    "data_df_nominal"
   ]
  },
  {
   "cell_type": "code",
   "execution_count": null,
   "metadata": {},
   "outputs": [],
   "source": [
    "original_losses = pd.read_csv(r'plots\\uncertainty\\MC\\DAVE2-Track1-Normal\\dave2-p10-track1-mcd_10_S128.csv')\n",
    "original_losses = original_losses[100:len(data_df_nominal)+100]\n",
    "data_df_nominal.isna"
   ]
  },
  {
   "cell_type": "markdown",
   "metadata": {},
   "source": [
    "Functions for converting results files into ICST tables"
   ]
  },
  {
   "cell_type": "code",
   "execution_count": null,
   "metadata": {},
   "outputs": [],
   "source": [
    "import pandas as pd"
   ]
  },
  {
   "cell_type": "code",
   "execution_count": null,
   "metadata": {},
   "outputs": [],
   "source": [
    "path = 'results/final_'+str(t)\n",
    "path"
   ]
  },
  {
   "cell_type": "code",
   "execution_count": null,
   "metadata": {},
   "outputs": [],
   "source": [
    "t=99"
   ]
  },
  {
   "cell_type": "code",
   "execution_count": null,
   "metadata": {},
   "outputs": [],
   "source": [
    "m1 = pd.read_csv(f'results/final_{t}/dave2-p10-track1-mcd_5_S32.csv')\n",
    "m2 = pd.read_csv(f'results/final_{t}/dave2-p10-track1-mcd_5_S128.csv')\n",
    "m3 = pd.read_csv(f'results/final_{t}/dave2-p10-track1-mcd_30_S64.csv')\n",
    "m4 = pd.read_csv(f'results/final_{t}/dave2-p10-track1-mcd_30_S128.csv')"
   ]
  },
  {
   "cell_type": "code",
   "execution_count": null,
   "metadata": {},
   "outputs": [],
   "source": [
    "d3 = pd.read_csv(f'results/final_{t}/dave2-track1-DE_3.csv')\n",
    "d5 = pd.read_csv(f'results/final_{t}/dave2-track1-DE_5.csv')\n",
    "d10 = pd.read_csv(f'results/final_{t}/dave2-track1-DE_10.csv')\n",
    "d50 = pd.read_csv(f'results/final_{t}/dave2-track1-DE_50.csv')\n",
    "d120 = pd.read_csv(f'results/final_{t}/dave2-track1-DE_120.csv')"
   ]
  },
  {
   "cell_type": "code",
   "execution_count": null,
   "metadata": {},
   "outputs": [],
   "source": [
    "t=99999\n",
    "m = pd.read_csv(f'results/final_{t}/dave2-track1-DE_50.csv')\n",
    "df = m[m['simulation_name'].str.contains('xai-track1-fog', case=False)]\n",
    "df = df[['model','simulation_name', 'precision', 'recall', 'f3']]\n",
    "df.to_csv(f'results/temp/fog_{t}.csv')\n",
    "\n",
    "df = m[m['simulation_name'].str.contains('xai-track1-rain', case=False)]\n",
    "df = df[['model','simulation_name', 'precision', 'recall', 'f3']]\n",
    "df.to_csv(f'results/temp/rain_{t}.csv')\n",
    "\n",
    "df = m[m['simulation_name'].str.contains('xai-track1-snow', case=False)]\n",
    "df = df[['model','simulation_name', 'precision', 'recall', 'f3']]\n",
    "df.to_csv(f'results/temp/snow_{t}.csv')\n",
    "\n",
    "df = m[m['simulation_name'].str.contains('udacity', case=False)]\n",
    "df = df[['model','simulation_name', 'precision', 'recall', 'f3']]\n",
    "df.to_csv(f'results/temp/mutants_{t}.csv')\n",
    "\n",
    "df = m[m['simulation_name'].str.contains('DAVE2-Track1', case=False)]\n",
    "df = df[['model','simulation_name', 'precision', 'recall', 'f3']]\n",
    "df.to_csv(f'results/temp/icse20_{t}.csv')"
   ]
  },
  {
   "cell_type": "markdown",
   "metadata": {},
   "source": [
    "Plotting f3 scores"
   ]
  },
  {
   "cell_type": "code",
   "execution_count": 2,
   "metadata": {},
   "outputs": [
    {
     "data": {
      "text/html": [
       "<div>\n",
       "<style scoped>\n",
       "    .dataframe tbody tr th:only-of-type {\n",
       "        vertical-align: middle;\n",
       "    }\n",
       "\n",
       "    .dataframe tbody tr th {\n",
       "        vertical-align: top;\n",
       "    }\n",
       "\n",
       "    .dataframe thead th {\n",
       "        text-align: right;\n",
       "    }\n",
       "</style>\n",
       "<table border=\"1\" class=\"dataframe\">\n",
       "  <thead>\n",
       "    <tr style=\"text-align: right;\">\n",
       "      <th></th>\n",
       "      <th>Unnamed: 0</th>\n",
       "      <th>MCD-5 S32</th>\n",
       "      <th>MCD-5 S64</th>\n",
       "      <th>MCD-5 S128</th>\n",
       "      <th>DE5</th>\n",
       "      <th>DE10</th>\n",
       "      <th>DE50</th>\n",
       "      <th>SelfOracle</th>\n",
       "      <th>ThirdEye</th>\n",
       "    </tr>\n",
       "  </thead>\n",
       "  <tbody>\n",
       "    <tr>\n",
       "      <th>0</th>\n",
       "      <td>0,95</td>\n",
       "      <td>71</td>\n",
       "      <td>70</td>\n",
       "      <td>70</td>\n",
       "      <td>75</td>\n",
       "      <td>73</td>\n",
       "      <td>74</td>\n",
       "      <td>64</td>\n",
       "      <td>66</td>\n",
       "    </tr>\n",
       "    <tr>\n",
       "      <th>1</th>\n",
       "      <td>0,99</td>\n",
       "      <td>76</td>\n",
       "      <td>73</td>\n",
       "      <td>74</td>\n",
       "      <td>86</td>\n",
       "      <td>83</td>\n",
       "      <td>91</td>\n",
       "      <td>75</td>\n",
       "      <td>65</td>\n",
       "    </tr>\n",
       "    <tr>\n",
       "      <th>2</th>\n",
       "      <td>0,999</td>\n",
       "      <td>75</td>\n",
       "      <td>70</td>\n",
       "      <td>68</td>\n",
       "      <td>90</td>\n",
       "      <td>92</td>\n",
       "      <td>94</td>\n",
       "      <td>64</td>\n",
       "      <td>45</td>\n",
       "    </tr>\n",
       "    <tr>\n",
       "      <th>3</th>\n",
       "      <td>0,9999</td>\n",
       "      <td>69</td>\n",
       "      <td>61</td>\n",
       "      <td>61</td>\n",
       "      <td>89</td>\n",
       "      <td>89</td>\n",
       "      <td>94</td>\n",
       "      <td>51</td>\n",
       "      <td>32</td>\n",
       "    </tr>\n",
       "    <tr>\n",
       "      <th>4</th>\n",
       "      <td>0,99999</td>\n",
       "      <td>60</td>\n",
       "      <td>52</td>\n",
       "      <td>52</td>\n",
       "      <td>86</td>\n",
       "      <td>91</td>\n",
       "      <td>93</td>\n",
       "      <td>40</td>\n",
       "      <td>19</td>\n",
       "    </tr>\n",
       "  </tbody>\n",
       "</table>\n",
       "</div>"
      ],
      "text/plain": [
       "  Unnamed: 0  MCD-5 S32  MCD-5 S64  MCD-5 S128  DE5  DE10  DE50  SelfOracle  \\\n",
       "0       0,95         71         70          70   75    73    74          64   \n",
       "1       0,99         76         73          74   86    83    91          75   \n",
       "2      0,999         75         70          68   90    92    94          64   \n",
       "3     0,9999         69         61          61   89    89    94          51   \n",
       "4    0,99999         60         52          52   86    91    93          40   \n",
       "\n",
       "   ThirdEye  \n",
       "0        66  \n",
       "1        65  \n",
       "2        45  \n",
       "3        32  \n",
       "4        19  "
      ]
     },
     "execution_count": 2,
     "metadata": {},
     "output_type": "execute_result"
    }
   ],
   "source": [
    "import pandas as pd\n",
    "df = pd.read_csv('result_tables/f3 plots_dynamic.csv',sep=';')\n",
    "df"
   ]
  },
  {
   "cell_type": "code",
   "execution_count": 3,
   "metadata": {},
   "outputs": [
    {
     "data": {
      "image/png": "[encoded data removed]",
      "text/plain": [
       "<Figure size 720x504 with 1 Axes>"
      ]
     },
     "metadata": {
      "needs_background": "light"
     },
     "output_type": "display_data"
    }
   ],
   "source": [
    "import pandas as pd\n",
    "import seaborn as sns\n",
    "import matplotlib.pyplot as plt\n",
    "\n",
    "# Assuming df is your DataFrame\n",
    "# Ensure that the DataFrame contains the necessary data\n",
    "\n",
    "#models = ['SelfOracle', 'ThirdEye', 'MCD-5 S64', 'MCD-5 S128', 'DE3', 'DE5']\n",
    "models = ['MCD-5 S32','MCD-5 S64', 'MCD-5 S128', 'DE5', 'DE10', 'DE50','SelfOracle', 'ThirdEye']\n",
    "\n",
    "# Extracting data for plotting\n",
    "confidence_levels = df['Unnamed: 0']\n",
    "model_scores = [df[model] for model in models]\n",
    "\n",
    "# Plotting the data\n",
    "plt.figure(figsize=(10,7))\n",
    "for i, scores in enumerate(model_scores):\n",
    "    plt.plot(confidence_levels, scores, marker='o', label=f'{models[i]}')\n",
    "\n",
    "# Setting the x and y labels\n",
    "plt.xlabel('Confidence Level',fontsize=16)\n",
    "plt.ylabel('F-3 Score',fontsize=16)\n",
    "\n",
    "# Setting the title\n",
    "#plt.title('F-3 Scores of Different Models at Various Confidence Levels',fontsize=18)\n",
    "\n",
    "# Setting the x-axis ticks\n",
    "plt.yticks(fontsize=12)\n",
    "\n",
    "plt.xticks(confidence_levels,['0.95','0.99','0.999','0.9999','0.99999'],fontsize=12)\n",
    "\n",
    "# Showing the legend\n",
    "plt.legend(fontsize=15)\n",
    "\n",
    "# Displaying the plot\n",
    "plt.show()"
   ]
  },
  {
   "cell_type": "markdown",
   "metadata": {},
   "source": [
    "Calculate Number of models and images used"
   ]
  },
  {
   "cell_type": "code",
   "execution_count": 1,
   "metadata": {},
   "outputs": [],
   "source": [
    "import os\n",
    "\n",
    "def count_png_files(folder_path):\n",
    "    count = 0\n",
    "    for root, dirs, files in os.walk(folder_path):\n",
    "        for file in files:\n",
    "            if file.endswith(\".jpg\"):\n",
    "                count += 1\n",
    "    return count\n",
    "\n",
    "def list_subfolders_with_counts(folder_path):\n",
    "    subfolders = [f.path for f in os.scandir(folder_path) if f.is_dir()]\n",
    "    result = {}\n",
    "    for subfolder in subfolders:\n",
    "        result[subfolder] = count_png_files(subfolder)\n",
    "    return result"
   ]
  },
  {
   "cell_type": "code",
   "execution_count": 2,
   "metadata": {},
   "outputs": [
    {
     "name": "stdout",
     "output_type": "stream",
     "text": [
      "Subfolders and their respective counts:\n",
      "simulations/benchmark-ASE2022: 336036 .png files\n",
      "simulations/DAVE2-Track1-Normal: 12132 .png files\n",
      "simulations/gauss-journal-track1-nominal: 6687 .png files\n",
      "simulations/icse20: 114016 .png files\n",
      "simulations/icse20-ood: 6687 .png files\n",
      "simulations/icse20_1: 57008 .png files\n",
      "simulations/icse20_rest: 2054 .png files\n",
      "simulations/mutants: 315078 .png files\n",
      "simulations/mutants_1: 102797 .png files\n",
      "simulations/ood: 212716 .png files\n",
      "simulations/xai-track1-fog-10: 6622 .png files\n",
      "simulations/xai-track1-fog-100: 10530 .png files\n",
      "simulations/xai-track1-fog-20: 9420 .png files\n",
      "simulations/xai-track1-fog-30: 4069 .png files\n",
      "simulations/xai-track1-fog-40: 14434 .png files\n",
      "simulations/xai-track1-fog-50: 8230 .png files\n",
      "simulations/xai-track1-fog-60: 6732 .png files\n",
      "simulations/xai-track1-fog-70: 8774 .png files\n",
      "simulations/xai-track1-fog-80: 6786 .png files\n",
      "simulations/xai-track1-fog-90: 6780 .png files\n",
      "simulations/xai-track1-rain-10: 6430 .png files\n",
      "simulations/xai-track1-rain-100: 7270 .png files\n",
      "simulations/xai-track1-rain-20: 7720 .png files\n",
      "simulations/xai-track1-rain-30: 7582 .png files\n",
      "simulations/xai-track1-rain-40: 8366 .png files\n",
      "simulations/xai-track1-rain-50: 6646 .png files\n",
      "simulations/xai-track1-rain-60: 7924 .png files\n",
      "simulations/xai-track1-rain-70: 6018 .png files\n",
      "simulations/xai-track1-rain-80: 7452 .png files\n",
      "simulations/xai-track1-rain-90: 5914 .png files\n",
      "simulations/xai-track1-snow-10: 6238 .png files\n",
      "simulations/xai-track1-snow-100: 6732 .png files\n",
      "simulations/xai-track1-snow-20: 7610 .png files\n",
      "simulations/xai-track1-snow-30: 6160 .png files\n",
      "simulations/xai-track1-snow-40: 8152 .png files\n",
      "simulations/xai-track1-snow-50: 6636 .png files\n",
      "simulations/xai-track1-snow-60: 8496 .png files\n",
      "simulations/xai-track1-snow-70: 6366 .png files\n",
      "simulations/xai-track1-snow-80: 8196 .png files\n",
      "simulations/xai-track1-snow-90: 6696 .png files\n"
     ]
    }
   ],
   "source": [
    "folder_path = r\"simulations/\"  \n",
    "subfolders_with_counts = list_subfolders_with_counts(folder_path)\n",
    "\n",
    "print(\"Subfolders and their respective counts:\")\n",
    "for folder, count in subfolders_with_counts.items():\n",
    "    print(f\"{folder}: {count} .png files\")"
   ]
  },
  {
   "cell_type": "code",
   "execution_count": 3,
   "metadata": {},
   "outputs": [],
   "source": [
    "import os\n",
    "import pandas as pd\n",
    "\n",
    "def sum_images(folder_path):\n",
    "    total_rows = 0\n",
    "    for root, dirs, files in os.walk(folder_path):\n",
    "        for file in files:\n",
    "            if file.endswith(\".jpg\"):\n",
    "                file_path = os.path.join(root, file)\n",
    "                df = pd.read_csv(file_path)\n",
    "                total_rows += len(df)\n",
    "    return total_rows"
   ]
  },
  {
   "cell_type": "code",
   "execution_count": 4,
   "metadata": {},
   "outputs": [],
   "source": [
    "import os\n",
    "import pandas as pd\n",
    "\n",
    "def sum_csv_rows(folder_path):\n",
    "    total_rows = 0\n",
    "    for root, dirs, files in os.walk(folder_path):\n",
    "        for file in files:\n",
    "            if file.endswith(\".csv\"):\n",
    "                file_path = os.path.join(root, file)\n",
    "                df = pd.read_csv(file_path)\n",
    "                total_rows += len(df)\n",
    "    return total_rows"
   ]
  },
  {
   "cell_type": "code",
   "execution_count": 5,
   "metadata": {},
   "outputs": [
    {
     "name": "stdout",
     "output_type": "stream",
     "text": [
      "The sum of rows of all .csv files is: 315084\n"
     ]
    }
   ],
   "source": [
    "folder_path = r\"simulations/mutants\" \n",
    "total_rows = sum_csv_rows(folder_path)\n",
    "print(f\"The sum of rows of all .csv files is: {total_rows}\")"
   ]
  },
  {
   "cell_type": "markdown",
   "metadata": {},
   "source": [
    "ICST Results Table"
   ]
  },
  {
   "cell_type": "code",
   "execution_count": 8,
   "metadata": {},
   "outputs": [],
   "source": [
    "import os\n",
    "\n",
    "# Set the path to icst folder\n",
    "folder_path = r'results\\dynamic\\t99'\n",
    "\n",
    "# List all files in the directory\n",
    "files = os.listdir(folder_path)\n",
    "\n",
    "# Rename files by removing 'dave2-p10-track1-' or 'dave2-track1-' from the file names\n",
    "for file in files:\n",
    "    if file.endswith('.csv'):\n",
    "        new_name = file.replace('dave2-p10-track1-', '').replace('dave2-track1-', '')\n",
    "        os.rename(os.path.join(folder_path, file), os.path.join(folder_path, new_name))\n"
   ]
  },
  {
   "cell_type": "code",
   "execution_count": null,
   "metadata": {},
   "outputs": [],
   "source": [
    "import os\n",
    "import pandas as pd\n",
    "\n",
    "# Set the path to the main folder\n",
    "main_folder_path = 'results/icse35_dynamic/'\n",
    "\n",
    "# List of model names\n",
    "models = ['dave2-p10-track1-mcd_5_S32', 'dave2-p10-track1-mcd_5_S64', 'dave2-p10-track1-mcd_5_S128', 'dave2-track1-DE_5', 'dave2-track1-DE_10', 'dave2-track1-DE_50', 'SelfOracle', 'ThirdEye']\n",
    "# List of subfolder names\n",
    "subfolders = ['t95', 't99', 't999', 't9999', 't99999']\n",
    "\n",
    "# Iterate through each model\n",
    "for model in models:\n",
    "    dfs = []\n",
    "    for folder in subfolders:\n",
    "        file_path = os.path.join(main_folder_path, folder, f\"{model}.csv\")\n",
    "        if os.path.exists(file_path):\n",
    "            df = pd.read_csv(file_path)\n",
    "            df = df[['simulation_name', 'ttm', 'precision', 'recall', 'f3']]\n",
    "            df.columns = [f'{col}_{folder}' for col in df.columns]  # Rename columns based on threshold\n",
    "            dfs.append(df)\n",
    "    if dfs:\n",
    "        merged_df = pd.concat(dfs, axis=1)\n",
    "        merged_df.rename(columns={'simulation_name_t95': 'name', 'ttm_t95': 'seconds'}, inplace=True)  # Using inplace=True to modify the DataFrame in place\n",
    "        merged_df = merged_df.loc[:,~merged_df.columns.str.contains('ttm|simulation_name')]  # Remove columns containing 'ttm' or 'simulation_name'\n",
    "        merged_df.to_csv(f\"results/temp/{model}_merged_data.csv\", index=False)\n"
   ]
  },
  {
   "cell_type": "code",
   "execution_count": null,
   "metadata": {},
   "outputs": [],
   "source": [
    "import pandas as pd\n",
    "\n",
    "# Read the CSV files\n",
    "df1 = pd.read_csv('results/temp/dave2-p10-track1-mcd_5_S32_merged_data.csv')\n",
    "df2 = pd.read_csv('results/temp/dave2-p10-track1-mcd_5_S64_merged_data.csv')\n",
    "df3 = pd.read_csv('results/temp/dave2-p10-track1-mcd_5_S128_merged_data.csv')\n",
    "\n",
    "#DE\n",
    "\n",
    "#df1 = pd.read_csv('results/temp/dave2-track1-DE_5_merged_data.csv')\n",
    "#df2 = pd.read_csv('results/temp/dave2-track1-DE_10_merged_data.csv')\n",
    "#df3 = pd.read_csv('results/temp/dave2-track1-DE_50_merged_data.csv')\n",
    "\n",
    "# Remove specific columns from df2 and df3\n",
    "df2 = df2.drop(['name', 'seconds'], axis=1)\n",
    "df3 = df3.drop(['name', 'seconds'], axis=1)\n",
    "\n",
    "# Rename columns to avoid duplication\n",
    "df2 = df2.add_suffix('_2')\n",
    "df3 = df3.add_suffix('_3')\n",
    "\n",
    "# Merge the dataframes\n",
    "merged_df = pd.concat([df1, df2, df3], axis=1)\n",
    "\n",
    "# Save the merged dataframe to a new CSV file\n",
    "merged_df.to_csv('merged_files.csv', index=False)"
   ]
  },
  {
   "cell_type": "code",
   "execution_count": null,
   "metadata": {},
   "outputs": [],
   "source": [
    "m=pd.read_csv(r'merged_files.csv')"
   ]
  },
  {
   "cell_type": "code",
   "execution_count": null,
   "metadata": {},
   "outputs": [],
   "source": [
    "m\n",
    "df = m[m['name'].str.contains('xai-track1-fog', case=False)]\n",
    "df.to_csv(f'results/temp/fog.csv')\n",
    "\n",
    "df = m[m['name'].str.contains('xai-track1-rain', case=False)]\n",
    "df.to_csv(f'results/temp/rain.csv')\n",
    "\n",
    "df = m[m['name'].str.contains('xai-track1-snow', case=False)]\n",
    "df.to_csv(f'results/temp/snow.csv')\n",
    "\n",
    "df = m[m['name'].str.contains('udacity', case=False)]\n",
    "df.to_csv(f'results/temp/mutants.csv')\n",
    "\n",
    "df = m[m['name'].str.contains('DAVE2-Track1', case=False)]\n",
    "df.to_csv(f'results/temp/icse20.csv')"
   ]
  },
  {
   "cell_type": "markdown",
   "metadata": {},
   "source": [
    "<!-- add time to icse20 dataset -->"
   ]
  },
  {
   "cell_type": "markdown",
   "metadata": {},
   "source": [
    "Add Time to csv files"
   ]
  },
  {
   "cell_type": "code",
   "execution_count": null,
   "metadata": {},
   "outputs": [],
   "source": [
    "import pandas as pd\n",
    "import re\n",
    "\n",
    "path = 'simulations/icse20/DAVE2-Track1-Snow/driving_log.csv'\n",
    "df = pd.read_csv(path)\n",
    "\n",
    "# Extracting the time segment\n",
    "df['time_segment'] = df['center'].str.extract(r'(\\d{4}_\\d{2}_\\d{2}_\\d{2}_\\d{2}_\\d{2}_\\d{3})')\n",
    "\n",
    "# Converting the time segment to datetime objects\n",
    "df['time_segment'] = pd.to_datetime(df['time_segment'], format='%Y_%m_%d_%H_%M_%S_%f')\n",
    "\n",
    "# Calculating the time difference in seconds from the first row as an integer\n",
    "df['time'] = (df['time_segment'] - df['time_segment'].iloc[0]).dt.total_seconds().astype(int)\n",
    "\n",
    "\n",
    "# Display the DataFrame with the new column\n",
    "df.to_csv(path)"
   ]
  },
  {
   "cell_type": "markdown",
   "metadata": {},
   "source": [
    "calculate average fps"
   ]
  },
  {
   "cell_type": "code",
   "execution_count": null,
   "metadata": {},
   "outputs": [],
   "source": [
    "import glob\n",
    "import os\n",
    "from natsort import natsorted\n",
    "import pandas as pd\n",
    "import numpy as np\n",
    "\n",
    "fps=[]\n",
    "for condition in [ 'icse20','mutants', 'ood']:\n",
    "    simulations = natsorted(glob.glob('simulations/' + condition + '/*'))\n",
    "    for sim in simulations:\n",
    "        path = os.path.join(sim,'driving_log.csv')\n",
    "        df=pd.read_csv(path)\n",
    "        number_frames_nominal = pd.Series.max(df['frameId'])\n",
    "        simulation_time_nominal = pd.Series.max(df['time'])\n",
    "        fps_nominal = number_frames_nominal // simulation_time_nominal\n",
    "        fps.append(fps_nominal)\n",
    "        print(fps_nominal)\n",
    "        \n"
   ]
  },
  {
   "cell_type": "code",
   "execution_count": null,
   "metadata": {},
   "outputs": [],
   "source": [
    "np.mean(fps)"
   ]
  },
  {
   "cell_type": "markdown",
   "metadata": {},
   "source": [
    "Plotting profiling (memory and time)"
   ]
  },
  {
   "cell_type": "code",
   "execution_count": 106,
   "metadata": {},
   "outputs": [
    {
     "data": {
      "text/html": [
       "<div>\n",
       "<style scoped>\n",
       "    .dataframe tbody tr th:only-of-type {\n",
       "        vertical-align: middle;\n",
       "    }\n",
       "\n",
       "    .dataframe tbody tr th {\n",
       "        vertical-align: top;\n",
       "    }\n",
       "\n",
       "    .dataframe thead th {\n",
       "        text-align: right;\n",
       "    }\n",
       "</style>\n",
       "<table border=\"1\" class=\"dataframe\">\n",
       "  <thead>\n",
       "    <tr style=\"text-align: right;\">\n",
       "      <th></th>\n",
       "      <th>Name</th>\n",
       "      <th>Max Memory Usage</th>\n",
       "      <th>Total Time</th>\n",
       "    </tr>\n",
       "  </thead>\n",
       "  <tbody>\n",
       "    <tr>\n",
       "      <th>0</th>\n",
       "      <td>DE0</td>\n",
       "      <td>946.441406</td>\n",
       "      <td>9.5706</td>\n",
       "    </tr>\n",
       "    <tr>\n",
       "      <th>1</th>\n",
       "      <td>DE1</td>\n",
       "      <td>1072.968750</td>\n",
       "      <td>13.4776</td>\n",
       "    </tr>\n",
       "    <tr>\n",
       "      <th>2</th>\n",
       "      <td>DE10</td>\n",
       "      <td>1125.878906</td>\n",
       "      <td>46.8715</td>\n",
       "    </tr>\n",
       "    <tr>\n",
       "      <th>3</th>\n",
       "      <td>DE120</td>\n",
       "      <td>1790.054688</td>\n",
       "      <td>452.8923</td>\n",
       "    </tr>\n",
       "    <tr>\n",
       "      <th>4</th>\n",
       "      <td>DE5</td>\n",
       "      <td>978.230469</td>\n",
       "      <td>27.5707</td>\n",
       "    </tr>\n",
       "    <tr>\n",
       "      <th>5</th>\n",
       "      <td>DE50</td>\n",
       "      <td>1309.945312</td>\n",
       "      <td>195.4237</td>\n",
       "    </tr>\n",
       "    <tr>\n",
       "      <th>6</th>\n",
       "      <td>MCD_S10</td>\n",
       "      <td>334.339844</td>\n",
       "      <td>116.8842</td>\n",
       "    </tr>\n",
       "    <tr>\n",
       "      <th>7</th>\n",
       "      <td>MCD_S128</td>\n",
       "      <td>444.863281</td>\n",
       "      <td>736.5215</td>\n",
       "    </tr>\n",
       "    <tr>\n",
       "      <th>8</th>\n",
       "      <td>MCD_S2</td>\n",
       "      <td>324.457031</td>\n",
       "      <td>53.1174</td>\n",
       "    </tr>\n",
       "    <tr>\n",
       "      <th>9</th>\n",
       "      <td>MCD_S32</td>\n",
       "      <td>355.082031</td>\n",
       "      <td>245.0981</td>\n",
       "    </tr>\n",
       "    <tr>\n",
       "      <th>10</th>\n",
       "      <td>MCD_S5</td>\n",
       "      <td>326.890625</td>\n",
       "      <td>76.6821</td>\n",
       "    </tr>\n",
       "    <tr>\n",
       "      <th>11</th>\n",
       "      <td>MCD_S64</td>\n",
       "      <td>383.792969</td>\n",
       "      <td>412.7604</td>\n",
       "    </tr>\n",
       "    <tr>\n",
       "      <th>12</th>\n",
       "      <td>SelfOracle</td>\n",
       "      <td>26354.742188</td>\n",
       "      <td>141.1451</td>\n",
       "    </tr>\n",
       "    <tr>\n",
       "      <th>13</th>\n",
       "      <td>SelfOracle_cached</td>\n",
       "      <td>25826.894531</td>\n",
       "      <td>19.5644</td>\n",
       "    </tr>\n",
       "    <tr>\n",
       "      <th>14</th>\n",
       "      <td>ThirdEye</td>\n",
       "      <td>6991.226562</td>\n",
       "      <td>2903.7579</td>\n",
       "    </tr>\n",
       "    <tr>\n",
       "      <th>15</th>\n",
       "      <td>ThirdEye_cached</td>\n",
       "      <td>1130.953125</td>\n",
       "      <td>15.2158</td>\n",
       "    </tr>\n",
       "  </tbody>\n",
       "</table>\n",
       "</div>"
      ],
      "text/plain": [
       "                 Name  Max Memory Usage  Total Time\n",
       "0                 DE0        946.441406      9.5706\n",
       "1                 DE1       1072.968750     13.4776\n",
       "2                DE10       1125.878906     46.8715\n",
       "3               DE120       1790.054688    452.8923\n",
       "4                 DE5        978.230469     27.5707\n",
       "5                DE50       1309.945312    195.4237\n",
       "6             MCD_S10        334.339844    116.8842\n",
       "7            MCD_S128        444.863281    736.5215\n",
       "8              MCD_S2        324.457031     53.1174\n",
       "9             MCD_S32        355.082031    245.0981\n",
       "10             MCD_S5        326.890625     76.6821\n",
       "11            MCD_S64        383.792969    412.7604\n",
       "12         SelfOracle      26354.742188    141.1451\n",
       "13  SelfOracle_cached      25826.894531     19.5644\n",
       "14           ThirdEye       6991.226562   2903.7579\n",
       "15    ThirdEye_cached       1130.953125     15.2158"
      ]
     },
     "execution_count": 106,
     "metadata": {},
     "output_type": "execute_result"
    }
   ],
   "source": [
    "import os\n",
    "import re\n",
    "import pandas as pd\n",
    "\n",
    "folder_path = 'performance testing'\n",
    "\n",
    "# Initialize an empty list to store dataframes\n",
    "dataframes = []\n",
    "\n",
    "# Function to parse the .dat file and extract relevant information\n",
    "def parse_dat_file(file_path):\n",
    "    with open(file_path, 'r') as f:\n",
    "        lines = f.readlines()\n",
    "        model_name = os.path.basename(file_path).replace('.dat', '')\n",
    "        memory_values = []\n",
    "        timestamps = []\n",
    "        for line in lines:\n",
    "            if line.startswith(\"MEM\"):\n",
    "                parts = re.split(r'\\s+', line)\n",
    "                memory_values.append(float(parts[1]))\n",
    "                timestamps.append(float(parts[2]))\n",
    "\n",
    "        max_memory = max(memory_values)\n",
    "        total_time = max(timestamps) - min(timestamps)\n",
    "\n",
    "        return pd.DataFrame([[model_name, max_memory, total_time]], columns=['Name', 'Max Memory Usage', 'Total Time'])\n",
    "\n",
    "# Loop through each file in the directory\n",
    "for file in os.listdir(folder_path):\n",
    "    if file.endswith('.dat'):\n",
    "        file_path = os.path.join(folder_path, file)\n",
    "        summary_df = parse_dat_file(file_path)\n",
    "        dataframes.append(summary_df)\n",
    "\n",
    "# Concatenate all dataframes into one\n",
    "result_df = pd.concat(dataframes, ignore_index=True)\n",
    "\n",
    "# Print the final dataframe\n",
    "result_df"
   ]
  },
  {
   "cell_type": "code",
   "execution_count": 107,
   "metadata": {},
   "outputs": [],
   "source": [
    "models = ['MCD_S32', 'MCD_S64', 'MCD_S128', 'DE5', 'DE10','DE50'] \n",
    "new_df = result_df[result_df['Name'].isin(models)]"
   ]
  },
  {
   "cell_type": "code",
   "execution_count": 47,
   "metadata": {},
   "outputs": [
    {
     "data": {
      "text/html": [
       "<div>\n",
       "<style scoped>\n",
       "    .dataframe tbody tr th:only-of-type {\n",
       "        vertical-align: middle;\n",
       "    }\n",
       "\n",
       "    .dataframe tbody tr th {\n",
       "        vertical-align: top;\n",
       "    }\n",
       "\n",
       "    .dataframe thead th {\n",
       "        text-align: right;\n",
       "    }\n",
       "</style>\n",
       "<table border=\"1\" class=\"dataframe\">\n",
       "  <thead>\n",
       "    <tr style=\"text-align: right;\">\n",
       "      <th></th>\n",
       "      <th>Name</th>\n",
       "      <th>Max Memory Usage</th>\n",
       "      <th>Total Time</th>\n",
       "    </tr>\n",
       "  </thead>\n",
       "  <tbody>\n",
       "    <tr>\n",
       "      <th>2</th>\n",
       "      <td>DE10</td>\n",
       "      <td>1125.878906</td>\n",
       "      <td>46.8715</td>\n",
       "    </tr>\n",
       "    <tr>\n",
       "      <th>4</th>\n",
       "      <td>DE5</td>\n",
       "      <td>978.230469</td>\n",
       "      <td>27.5707</td>\n",
       "    </tr>\n",
       "    <tr>\n",
       "      <th>5</th>\n",
       "      <td>DE50</td>\n",
       "      <td>1309.945312</td>\n",
       "      <td>195.4237</td>\n",
       "    </tr>\n",
       "    <tr>\n",
       "      <th>7</th>\n",
       "      <td>MCD_S128</td>\n",
       "      <td>444.863281</td>\n",
       "      <td>736.5215</td>\n",
       "    </tr>\n",
       "    <tr>\n",
       "      <th>9</th>\n",
       "      <td>MCD_S32</td>\n",
       "      <td>355.082031</td>\n",
       "      <td>245.0981</td>\n",
       "    </tr>\n",
       "    <tr>\n",
       "      <th>11</th>\n",
       "      <td>MCD_S64</td>\n",
       "      <td>383.792969</td>\n",
       "      <td>412.7604</td>\n",
       "    </tr>\n",
       "    <tr>\n",
       "      <th>13</th>\n",
       "      <td>SelfOracle_no_cache</td>\n",
       "      <td>26354.742188</td>\n",
       "      <td>141.1451</td>\n",
       "    </tr>\n",
       "    <tr>\n",
       "      <th>14</th>\n",
       "      <td>ThirdEye</td>\n",
       "      <td>1130.953125</td>\n",
       "      <td>15.2158</td>\n",
       "    </tr>\n",
       "  </tbody>\n",
       "</table>\n",
       "</div>"
      ],
      "text/plain": [
       "                   Name  Max Memory Usage  Total Time\n",
       "2                  DE10       1125.878906     46.8715\n",
       "4                   DE5        978.230469     27.5707\n",
       "5                  DE50       1309.945312    195.4237\n",
       "7              MCD_S128        444.863281    736.5215\n",
       "9               MCD_S32        355.082031    245.0981\n",
       "11              MCD_S64        383.792969    412.7604\n",
       "13  SelfOracle_no_cache      26354.742188    141.1451\n",
       "14             ThirdEye       1130.953125     15.2158"
      ]
     },
     "execution_count": 47,
     "metadata": {},
     "output_type": "execute_result"
    }
   ],
   "source": [
    "new_df"
   ]
  },
  {
   "cell_type": "code",
   "execution_count": 108,
   "metadata": {},
   "outputs": [
    {
     "data": {
      "image/png": "[encoded data removed]",
      "text/plain": [
       "<Figure size 720x432 with 1 Axes>"
      ]
     },
     "metadata": {
      "needs_background": "light"
     },
     "output_type": "display_data"
    }
   ],
   "source": [
    "import matplotlib.pyplot as plt\n",
    "\n",
    "# Scatter plot of maximum memory usage and total time for each model\n",
    "plt.figure(figsize=(10, 6))\n",
    "plt.scatter(new_df['Total Time'], new_df['Max Memory Usage'], color='b', marker='o')\n",
    "\n",
    "# Add model names as labels to the points\n",
    "for i, txt in enumerate(new_df['Name']):\n",
    "    plt.annotate(txt, (new_df['Total Time'].iloc[i], new_df['Max Memory Usage'].iloc[i]))\n",
    "\n",
    "# Set labels and title\n",
    "plt.xlabel('Total Time')\n",
    "plt.ylabel('Maximum Memory Usage')\n",
    "plt.title('Relationship between Memory Usage and Total Time for Different Models')\n",
    "plt.show()\n"
   ]
  },
  {
   "cell_type": "code",
   "execution_count": 109,
   "metadata": {},
   "outputs": [
    {
     "data": {
      "image/png": "[encoded data removed]",
      "text/plain": [
       "<Figure size 720x432 with 1 Axes>"
      ]
     },
     "metadata": {
      "needs_background": "light"
     },
     "output_type": "display_data"
    },
    {
     "data": {
      "image/png": "[encoded data removed]",
      "text/plain": [
       "<Figure size 720x432 with 1 Axes>"
      ]
     },
     "metadata": {
      "needs_background": "light"
     },
     "output_type": "display_data"
    }
   ],
   "source": [
    "import matplotlib.pyplot as plt\n",
    "\n",
    "# Reorder the DataFrame based on the custom order\n",
    "new_df = new_df.set_index('Name').reindex(models).reset_index()\n",
    "\n",
    "# Plot for runtime\n",
    "plt.figure(figsize=(10, 6))\n",
    "plt.bar(new_df['Name'], new_df['Total Time'], color='skyblue')\n",
    "plt.xlabel('Model Name')\n",
    "plt.ylabel('Total Time')\n",
    "plt.title('Total Time Required for Computing for Different Models in seconds')\n",
    "plt.xticks(rotation=45)\n",
    "plt.show()\n",
    "\n",
    "# Plot for memory usage\n",
    "plt.figure(figsize=(10, 6))\n",
    "plt.bar(new_df['Name'], new_df['Max Memory Usage'], color='lightgreen')\n",
    "plt.xlabel('Model Name')\n",
    "plt.ylabel('Max Memory Usage in MiB')\n",
    "plt.title('Maximum Memory Usage for Different Models')\n",
    "plt.xticks(rotation=45)\n",
    "plt.show()"
   ]
  },
  {
   "cell_type": "code",
   "execution_count": 110,
   "metadata": {},
   "outputs": [],
   "source": [
    "models = ['MCD_S32', 'MCD_S64', 'MCD_S128', 'DE5', 'DE10','DE50','SelfOracle','ThirdEye'] \n",
    "df = result_df[result_df['Name'].isin(models)]\n",
    "df = df.set_index('Name').reindex(models).reset_index()"
   ]
  },
  {
   "cell_type": "code",
   "execution_count": 112,
   "metadata": {},
   "outputs": [
    {
     "data": {
      "text/html": [
       "<div>\n",
       "<style scoped>\n",
       "    .dataframe tbody tr th:only-of-type {\n",
       "        vertical-align: middle;\n",
       "    }\n",
       "\n",
       "    .dataframe tbody tr th {\n",
       "        vertical-align: top;\n",
       "    }\n",
       "\n",
       "    .dataframe thead th {\n",
       "        text-align: right;\n",
       "    }\n",
       "</style>\n",
       "<table border=\"1\" class=\"dataframe\">\n",
       "  <thead>\n",
       "    <tr style=\"text-align: right;\">\n",
       "      <th></th>\n",
       "      <th>Name</th>\n",
       "      <th>Max Memory Usage</th>\n",
       "      <th>Total Time</th>\n",
       "      <th>Total Images</th>\n",
       "      <th>Iterations per Second</th>\n",
       "      <th>Seconds per Iteration</th>\n",
       "      <th>Milliseconds per Iteration</th>\n",
       "    </tr>\n",
       "  </thead>\n",
       "  <tbody>\n",
       "    <tr>\n",
       "      <th>0</th>\n",
       "      <td>MCD_S32</td>\n",
       "      <td>355.082031</td>\n",
       "      <td>245.0981</td>\n",
       "      <td>11031</td>\n",
       "      <td>45.006469</td>\n",
       "      <td>0.022219</td>\n",
       "      <td>22.219028</td>\n",
       "    </tr>\n",
       "    <tr>\n",
       "      <th>1</th>\n",
       "      <td>MCD_S64</td>\n",
       "      <td>383.792969</td>\n",
       "      <td>412.7604</td>\n",
       "      <td>11031</td>\n",
       "      <td>26.724947</td>\n",
       "      <td>0.037418</td>\n",
       "      <td>37.418221</td>\n",
       "    </tr>\n",
       "    <tr>\n",
       "      <th>2</th>\n",
       "      <td>MCD_S128</td>\n",
       "      <td>444.863281</td>\n",
       "      <td>736.5215</td>\n",
       "      <td>11031</td>\n",
       "      <td>14.977160</td>\n",
       "      <td>0.066768</td>\n",
       "      <td>66.768335</td>\n",
       "    </tr>\n",
       "    <tr>\n",
       "      <th>3</th>\n",
       "      <td>DE5</td>\n",
       "      <td>978.230469</td>\n",
       "      <td>27.5707</td>\n",
       "      <td>11031</td>\n",
       "      <td>400.098653</td>\n",
       "      <td>0.002499</td>\n",
       "      <td>2.499384</td>\n",
       "    </tr>\n",
       "    <tr>\n",
       "      <th>4</th>\n",
       "      <td>DE10</td>\n",
       "      <td>1125.878906</td>\n",
       "      <td>46.8715</td>\n",
       "      <td>11031</td>\n",
       "      <td>235.345572</td>\n",
       "      <td>0.004249</td>\n",
       "      <td>4.249071</td>\n",
       "    </tr>\n",
       "    <tr>\n",
       "      <th>5</th>\n",
       "      <td>DE50</td>\n",
       "      <td>1309.945312</td>\n",
       "      <td>195.4237</td>\n",
       "      <td>11031</td>\n",
       "      <td>56.446582</td>\n",
       "      <td>0.017716</td>\n",
       "      <td>17.715864</td>\n",
       "    </tr>\n",
       "    <tr>\n",
       "      <th>6</th>\n",
       "      <td>SelfOracle</td>\n",
       "      <td>26354.742188</td>\n",
       "      <td>141.1451</td>\n",
       "      <td>11031</td>\n",
       "      <td>78.153616</td>\n",
       "      <td>0.012795</td>\n",
       "      <td>12.795313</td>\n",
       "    </tr>\n",
       "    <tr>\n",
       "      <th>7</th>\n",
       "      <td>ThirdEye</td>\n",
       "      <td>6991.226562</td>\n",
       "      <td>2903.7579</td>\n",
       "      <td>11031</td>\n",
       "      <td>3.798870</td>\n",
       "      <td>0.263236</td>\n",
       "      <td>263.236144</td>\n",
       "    </tr>\n",
       "  </tbody>\n",
       "</table>\n",
       "</div>"
      ],
      "text/plain": [
       "         Name  Max Memory Usage  Total Time  Total Images  \\\n",
       "0     MCD_S32        355.082031    245.0981         11031   \n",
       "1     MCD_S64        383.792969    412.7604         11031   \n",
       "2    MCD_S128        444.863281    736.5215         11031   \n",
       "3         DE5        978.230469     27.5707         11031   \n",
       "4        DE10       1125.878906     46.8715         11031   \n",
       "5        DE50       1309.945312    195.4237         11031   \n",
       "6  SelfOracle      26354.742188    141.1451         11031   \n",
       "7    ThirdEye       6991.226562   2903.7579         11031   \n",
       "\n",
       "   Iterations per Second  Seconds per Iteration  Milliseconds per Iteration  \n",
       "0              45.006469               0.022219                   22.219028  \n",
       "1              26.724947               0.037418                   37.418221  \n",
       "2              14.977160               0.066768                   66.768335  \n",
       "3             400.098653               0.002499                    2.499384  \n",
       "4             235.345572               0.004249                    4.249071  \n",
       "5              56.446582               0.017716                   17.715864  \n",
       "6              78.153616               0.012795                   12.795313  \n",
       "7               3.798870               0.263236                  263.236144  "
      ]
     },
     "execution_count": 112,
     "metadata": {},
     "output_type": "execute_result"
    }
   ],
   "source": [
    "# 'Total Images' is 11031 for all models\n",
    "\n",
    "# Add the 'Total Images' column\n",
    "df['Total Images'] = 11031\n",
    "\n",
    "# Calculate IPS\n",
    "df['Iterations per Second'] = df['Total Images'] / df['Total Time']\n",
    "#Seconds per iteration\n",
    "df['Seconds per Iteration'] = df['Total Time'] / df['Total Images']\n",
    "# Convert seconds to milliseconds for each iteration\n",
    "df['Milliseconds per Iteration'] = df['Seconds per Iteration'] * 1000\n",
    "\n",
    "# Print the updated DataFrame\n",
    "df"
   ]
  },
  {
   "cell_type": "code",
   "execution_count": 125,
   "metadata": {},
   "outputs": [
    {
     "data": {
      "image/png": "[encoded data removed]",
      "text/plain": [
       "<Figure size 720x432 with 1 Axes>"
      ]
     },
     "metadata": {
      "needs_background": "light"
     },
     "output_type": "display_data"
    }
   ],
   "source": [
    "import matplotlib.pyplot as plt\n",
    "\n",
    "plt.figure(figsize=(10, 6))\n",
    "bars = plt.bar(df['Name'], df['Milliseconds per Iteration'], color='tab:blue')\n",
    "plt.ylabel('Milliseconds per Iteration', fontsize=15)\n",
    "plt.title('Computational comparison', fontsize=18)\n",
    "plt.xticks(rotation=45, fontsize=12)\n",
    "\n",
    "# Adding value labels to the bars\n",
    "for bar in bars:\n",
    "    yval = bar.get_height()\n",
    "    plt.text(bar.get_x() + bar.get_width() / 2, yval, round(yval,1), va='bottom', ha='center', fontsize=12, weight='bold')\n",
    "\n",
    "plt.show()\n"
   ]
  }
 ],
 "metadata": {
  "kernelspec": {
   "display_name": "Python 3.6.8 ('udacity-self-driving-car')",
   "language": "python",
   "name": "python3"
  },
  "language_info": {
   "codemirror_mode": {
    "name": "ipython",
    "version": 3
   },
   "file_extension": ".py",
   "mimetype": "text/x-python",
   "name": "python",
   "nbconvert_exporter": "python",
   "pygments_lexer": "ipython3",
   "version": "3.6.8"
  },
  "orig_nbformat": 4,
  "vscode": {
   "interpreter": {
    "hash": "70096247bcda07457846f5e7969942de683a176a4e555548e494f119ea796924"
   }
  }
 },
 "nbformat": 4,
 "nbformat_minor": 2
}
