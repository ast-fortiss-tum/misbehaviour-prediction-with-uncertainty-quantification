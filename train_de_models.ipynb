{
 "cells": [
  {
   "cell_type": "markdown",
   "metadata": {},
   "source": [
    "Notebook used to test the training of DE models"
   ]
  },
  {
   "cell_type": "code",
   "execution_count": 1,
   "metadata": {},
   "outputs": [],
   "source": [
    "import datetime\n",
    "import os\n",
    "import time\n",
    "\n",
    "import tensorflow as tf\n",
    "import uncertainty_wizard as uwiz\n",
    "import matplotlib.pyplot as plt\n",
    "import numpy as np\n",
    "import pandas as pd\n",
    "from sklearn.model_selection import train_test_split\n",
    "from sklearn.utils import shuffle\n",
    "from tensorflow.keras.callbacks import ModelCheckpoint\n",
    "from tensorflow.keras.optimizers import Adam\n",
    "\n",
    "from config import Config\n",
    "from self_driving_car_batch_generator import Generator\n",
    "from utils import get_driving_styles\n",
    "from utils import INPUT_SHAPE\n",
    "from utils_models import *\n",
    "from self_driving_car_train import *\n",
    "\n",
    "np.random.seed(0)"
   ]
  },
  {
   "cell_type": "code",
   "execution_count": 2,
   "metadata": {},
   "outputs": [
    {
     "data": {
      "text/plain": [
       "True"
      ]
     },
     "execution_count": 2,
     "metadata": {},
     "output_type": "execute_result"
    }
   ],
   "source": [
    "cfg = Config()\n",
    "cfg.from_pyfile(\"config_my.py\")"
   ]
  },
  {
   "cell_type": "code",
   "execution_count": 3,
   "metadata": {},
   "outputs": [
    {
     "name": "stdout",
     "output_type": "stream",
     "text": [
      "Loading training set track1['normal', 'recovery', 'reverse']\n",
      "Loading training set completed in 0:00:00.\n",
      "Data set: 12251 elements\n",
      "Training set: 9800 elements\n",
      "Test set: 2451 elements\n"
     ]
    }
   ],
   "source": [
    "x_train, x_test, y_train, y_test = load_data(cfg)\n",
    "x_train, y_train = shuffle(x_train, y_train, random_state=0)\n",
    "x_test, y_test = shuffle(x_test, y_test, random_state=0)"
   ]
  },
  {
   "cell_type": "code",
   "execution_count": 4,
   "metadata": {},
   "outputs": [],
   "source": [
    "def create_dave2_de_model(model_id: int):\n",
    "        \"\"\"\n",
    "        original NVIDIA model w/out Dropout layers\n",
    "        \"\"\"\n",
    "        inputs = keras.Input(shape=INPUT_SHAPE)\n",
    "        lambda_layer = keras.layers.Lambda(lambda x: x / 127.5 - 1.0, name=\"lambda_layer\")(inputs)\n",
    "        x = keras.layers.Conv2D(24, (5, 5), activation='relu', strides=(2, 2), kernel_regularizer=l2(1.0e-6))(\n",
    "            lambda_layer)\n",
    "        x = keras.layers.Conv2D(36, (5, 5), activation='relu', strides=(2, 2), kernel_regularizer=l2(1.0e-6))(x)\n",
    "        x = keras.layers.Conv2D(48, (5, 5), activation='relu', strides=(2, 2), kernel_regularizer=l2(1.0e-6))(x)\n",
    "        x = keras.layers.Conv2D(64, (3, 3), activation='relu', kernel_regularizer=l2(1.0e-6))(x)\n",
    "        x = keras.layers.Conv2D(64, (3, 3), activation='relu', kernel_regularizer=l2(1.0e-6))(x)\n",
    "        x = keras.layers.Flatten()(x)\n",
    "        x = keras.layers.Dense(100, activation='relu', kernel_regularizer=l2(1.0e-6))(x)\n",
    "        x = keras.layers.Dense(50, activation='relu', kernel_regularizer=l2(1.0e-6))(x)\n",
    "        x = keras.layers.Dense(10, activation='relu', kernel_regularizer=l2(1.0e-6))(x)\n",
    "        outputs = keras.layers.Dense(1)(x)\n",
    "        model = keras.Model(inputs=inputs, outputs=outputs)\n",
    "\n",
    "        model.compile(loss='mean_squared_error', optimizer=Adam(lr=cfg.LEARNING_RATE))\n",
    "\n",
    "\n",
    "        train_generator = Generator(x_train, y_train, True, cfg)\n",
    "        val_generator = Generator(x_test, y_test, False, cfg)\n",
    "\n",
    "        history = model.fit(train_generator,\n",
    "                                validation_data=val_generator,\n",
    "                                batch_size=128,\n",
    "                                epochs=1,\n",
    "                                callbacks=[tf.keras.callbacks.EarlyStopping(patience=2)],\n",
    "                                verbose=1)\n",
    "\n",
    "        return model, history.history\n"
   ]
  },
  {
   "cell_type": "code",
   "execution_count": 5,
   "metadata": {},
   "outputs": [],
   "source": [
    "def create_de(model_id: int):\n",
    "    \"\"\"\n",
    "    Load train/validation data_nominal set and train the model\n",
    "    \"\"\"\n",
    "    cfg = Config()\n",
    "    cfg.from_pyfile(\"config_my.py\")\n",
    "\n",
    "    x_train, x_test, y_train, y_test = load_data(cfg)\n",
    "\n",
    "\n",
    "    model = build_model(cfg.SDC_MODEL_NAME, cfg.DROPOUT_RATE,cfg.USE_PREDICTIVE_UNCERTAINTY)\n",
    "    train_model(model, cfg, x_train, x_test, y_train, y_test)\n",
    "\n",
    "    return model"
   ]
  },
  {
   "cell_type": "code",
   "execution_count": 7,
   "metadata": {},
   "outputs": [
    {
     "name": "stdout",
     "output_type": "stream",
     "text": [
      "Working on model 0 (of 5) in the main process\n",
      " 2/38 [>.............................] - ETA: 4s - loss: nan   WARNING:tensorflow:Callbacks method `on_train_batch_end` is slow compared to the batch time (batch time: 0.0250s vs `on_train_batch_end` time: 0.2163s). Check your callbacks.\n",
      "38/38 [==============================] - 36s 942ms/step - loss: nan - val_loss: nan\n"
     ]
    },
    {
     "name": "stderr",
     "output_type": "stream",
     "text": [
      "c:\\Users\\ruben\\anaconda3\\envs\\udacity-self-driving-car\\lib\\site-packages\\tensorflow\\python\\keras\\callbacks.py:1664: RuntimeWarning: invalid value encountered in less\n",
      "  if self.monitor_op(current - self.min_delta, self.best):\n"
     ]
    },
    {
     "name": "stdout",
     "output_type": "stream",
     "text": [
      "WARNING:tensorflow:From c:\\Users\\ruben\\anaconda3\\envs\\udacity-self-driving-car\\lib\\site-packages\\tensorflow\\python\\training\\tracking\\tracking.py:111: Model.state_updates (from tensorflow.python.keras.engine.training) is deprecated and will be removed in a future version.\n",
      "Instructions for updating:\n",
      "This property should not be used in TensorFlow 2.0, as updates are applied automatically.\n",
      "WARNING:tensorflow:From c:\\Users\\ruben\\anaconda3\\envs\\udacity-self-driving-car\\lib\\site-packages\\tensorflow\\python\\training\\tracking\\tracking.py:111: Layer.updates (from tensorflow.python.keras.engine.base_layer) is deprecated and will be removed in a future version.\n",
      "Instructions for updating:\n",
      "This property should not be used in TensorFlow 2.0, as updates are applied automatically.\n",
      "INFO:tensorflow:Assets written to: c:\\Users\\ruben\\Documents\\Ruben\\TUM\\Thesis\\Workspaces\\white-box-ads-23\\models\\DE\\0\\assets\n",
      "Working on model 1 (of 5) in the main process\n",
      "38/38 [==============================] - 36s 938ms/step - loss: 0.0404 - val_loss: 0.0627\n",
      "INFO:tensorflow:Assets written to: c:\\Users\\ruben\\Documents\\Ruben\\TUM\\Thesis\\Workspaces\\white-box-ads-23\\models\\DE\\1\\assets\n",
      "Working on model 2 (of 5) in the main process\n",
      "38/38 [==============================] - 36s 954ms/step - loss: 0.0403 - val_loss: 0.1944\n",
      "INFO:tensorflow:Assets written to: c:\\Users\\ruben\\Documents\\Ruben\\TUM\\Thesis\\Workspaces\\white-box-ads-23\\models\\DE\\2\\assets\n",
      "Working on model 3 (of 5) in the main process\n",
      "38/38 [==============================] - 35s 928ms/step - loss: 0.0399 - val_loss: 0.0399\n",
      "INFO:tensorflow:Assets written to: c:\\Users\\ruben\\Documents\\Ruben\\TUM\\Thesis\\Workspaces\\white-box-ads-23\\models\\DE\\3\\assets\n",
      "Working on model 4 (of 5) in the main process\n",
      "38/38 [==============================] - 37s 973ms/step - loss: 0.0411 - val_loss: 0.0230\n",
      "INFO:tensorflow:Assets written to: c:\\Users\\ruben\\Documents\\Ruben\\TUM\\Thesis\\Workspaces\\white-box-ads-23\\models\\DE\\4\\assets\n"
     ]
    }
   ],
   "source": [
    "ensemble = uwiz.models.LazyEnsemble(num_models=5, # For the sake of this example. Use more in practice!\n",
    "                                    model_save_path=\"models\\DE\",\n",
    "                                    # Colab infrastructure is relatively weak.\n",
    "                                    # Thus, lets disable multiprocessing and train on the main process.\n",
    "                                    # Any argument >= 1 would result in (typically more efficient) multiprocessing\n",
    "                                    # on a more powerful machine\n",
    "                                    default_num_processes=0)\n",
    "# Creates, trains and persists atomic models using our function defined above\n",
    "training_histories = ensemble.create(create_function=create_dave2_de_model)"
   ]
  },
  {
   "cell_type": "code",
   "execution_count": 8,
   "metadata": {},
   "outputs": [
    {
     "name": "stdout",
     "output_type": "stream",
     "text": [
      "Working on model 0 (of 10) in the main process\n",
      "8/8 [==============================] - 2s 188ms/step\n",
      "Working on model 1 (of 10) in the main process\n",
      "8/8 [==============================] - 1s 179ms/step\n",
      "Working on model 2 (of 10) in the main process\n",
      "8/8 [==============================] - 1s 182ms/step\n",
      "Working on model 3 (of 10) in the main process\n",
      "8/8 [==============================] - 1s 177ms/step\n",
      "Working on model 4 (of 10) in the main process\n",
      "8/8 [==============================] - 1s 180ms/step\n",
      "Working on model 5 (of 10) in the main process\n",
      "8/8 [==============================] - 1s 179ms/step\n",
      "Working on model 6 (of 10) in the main process\n",
      "8/8 [==============================] - 1s 184ms/step\n",
      "Working on model 7 (of 10) in the main process\n",
      "8/8 [==============================] - 2s 188ms/step\n",
      "Working on model 8 (of 10) in the main process\n",
      "8/8 [==============================] - 1s 187ms/step\n",
      "Working on model 9 (of 10) in the main process\n",
      "8/8 [==============================] - 1s 184ms/step\n"
     ]
    }
   ],
   "source": [
    "val_generator = Generator(x_test, y_test, False, cfg)\n",
    "predictions, confidences = ensemble.predict_quantified(val_generator,\n",
    "                                                       quantifier='standard_deviation')"
   ]
  },
  {
   "cell_type": "code",
   "execution_count": 9,
   "metadata": {},
   "outputs": [
    {
     "data": {
      "text/plain": [
       "array([[-0.05994238],\n",
       "       [-0.05059595],\n",
       "       [-0.05504868],\n",
       "       ...,\n",
       "       [ 0.0028793 ],\n",
       "       [ 0.03574293],\n",
       "       [ 0.10860348]])"
      ]
     },
     "execution_count": 9,
     "metadata": {},
     "output_type": "execute_result"
    }
   ],
   "source": [
    "predictions"
   ]
  },
  {
   "cell_type": "code",
   "execution_count": 10,
   "metadata": {},
   "outputs": [
    {
     "data": {
      "text/plain": [
       "array([[0.01295222],\n",
       "       [0.01843196],\n",
       "       [0.01637283],\n",
       "       ...,\n",
       "       [0.01801964],\n",
       "       [0.01849108],\n",
       "       [0.03789418]])"
      ]
     },
     "execution_count": 10,
     "metadata": {},
     "output_type": "execute_result"
    }
   ],
   "source": [
    "confidences"
   ]
  },
  {
   "cell_type": "code",
   "execution_count": 13,
   "metadata": {},
   "outputs": [
    {
     "data": {
      "text/plain": [
       "(1024, 1)"
      ]
     },
     "execution_count": 13,
     "metadata": {},
     "output_type": "execute_result"
    }
   ],
   "source": [
    "predictions.shape"
   ]
  }
 ],
 "metadata": {
  "kernelspec": {
   "display_name": "Python 3.6.8 ('udacity-self-driving-car')",
   "language": "python",
   "name": "python3"
  },
  "language_info": {
   "codemirror_mode": {
    "name": "ipython",
    "version": 3
   },
   "file_extension": ".py",
   "mimetype": "text/x-python",
   "name": "python",
   "nbconvert_exporter": "python",
   "pygments_lexer": "ipython3",
   "version": "3.6.8"
  },
  "orig_nbformat": 4,
  "vscode": {
   "interpreter": {
    "hash": "70096247bcda07457846f5e7969942de683a176a4e555548e494f119ea796924"
   }
  }
 },
 "nbformat": 4,
 "nbformat_minor": 2
}
